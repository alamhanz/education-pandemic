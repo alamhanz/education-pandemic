{
 "cells": [
  {
   "cell_type": "code",
   "execution_count": 11,
   "id": "ad5a8b34-bde9-4cc6-94fc-75ee2afa27d2",
   "metadata": {},
   "outputs": [],
   "source": [
    "import pandas as pd\n",
    "import numpy as np\n",
    "import os"
   ]
  },
  {
   "cell_type": "code",
   "execution_count": 2,
   "id": "e5734ff8-5ea7-4170-b6a3-20f3e1668114",
   "metadata": {},
   "outputs": [],
   "source": [
    "BASE_PATH = '../data/'\n",
    "PATH_DATA = BASE_PATH+'engagement_data/'"
   ]
  },
  {
   "cell_type": "code",
   "execution_count": 18,
   "id": "5f27a240-d294-45a2-a3a7-dd7475786d73",
   "metadata": {},
   "outputs": [],
   "source": [
    "df_eng = pd.read_csv(BASE_PATH+'eng_merge.csv')"
   ]
  },
  {
   "cell_type": "code",
   "execution_count": 19,
   "id": "ee64e46a-edd1-4a99-8a1a-ae79fb4551c5",
   "metadata": {},
   "outputs": [],
   "source": [
    "df_list = np.array_split(df_eng, 35)"
   ]
  },
  {
   "cell_type": "code",
   "execution_count": 20,
   "id": "f4f2156c-fc4f-4e1f-b726-c5dd946b20f5",
   "metadata": {},
   "outputs": [
    {
     "data": {
      "text/plain": [
       "(22324190, 5)"
      ]
     },
     "execution_count": 20,
     "metadata": {},
     "output_type": "execute_result"
    }
   ],
   "source": [
    "df_eng.shape"
   ]
  },
  {
   "cell_type": "code",
   "execution_count": 22,
   "id": "bf46ab2e-da2a-4ced-948c-10ae921da77b",
   "metadata": {},
   "outputs": [],
   "source": [
    "k = 1\n",
    "for dd in df_list:\n",
    "    i = str(k)\n",
    "    dd.to_csv(BASE_PATH+'engagement_all/d_eng_'+i+'.csv',index = False)\n",
    "    k += 1"
   ]
  },
  {
   "cell_type": "code",
   "execution_count": 21,
   "id": "9c99c303-f28c-43f2-9add-a2d8c5f5e1c7",
   "metadata": {},
   "outputs": [],
   "source": [
    "# len(os.listdir(PATH_DATA))-1"
   ]
  },
  {
   "cell_type": "code",
   "execution_count": null,
   "id": "298e574f-3709-4ce6-9d58-3b46cafc5f65",
   "metadata": {},
   "outputs": [],
   "source": []
  }
 ],
 "metadata": {
  "kernelspec": {
   "display_name": "Python 3",
   "language": "python",
   "name": "python3"
  },
  "language_info": {
   "codemirror_mode": {
    "name": "ipython",
    "version": 3
   },
   "file_extension": ".py",
   "mimetype": "text/x-python",
   "name": "python",
   "nbconvert_exporter": "python",
   "pygments_lexer": "ipython3",
   "version": "3.7.10"
  }
 },
 "nbformat": 4,
 "nbformat_minor": 5
}
