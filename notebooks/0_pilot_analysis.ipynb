{
 "cells": [
  {
   "cell_type": "markdown",
   "id": "812c495a-afcc-414e-8853-819c9c49a7ab",
   "metadata": {},
   "source": [
    "# Learning Platform\n",
    "\n",
    "This is the pilot of analysis. Must gather some questions. Theme maybe?\n",
    "\n",
    "```Learn from Huge City Learner```\n",
    "\n",
    "Steps:\n",
    "\n",
    "1. Summarize the data\n",
    "2. Learn from Huge Learner\n"
   ]
  },
  {
   "cell_type": "code",
   "execution_count": 1,
   "id": "7681231c-77ef-4f67-928b-6fc41dcea7b7",
   "metadata": {},
   "outputs": [],
   "source": [
    "%matplotlib inline\n",
    "import pandas as pd\n",
    "import numpy as np\n",
    "import matplotlib.pyplot as plt\n",
    "import seaborn as sns\n",
    "import os"
   ]
  },
  {
   "cell_type": "code",
   "execution_count": 2,
   "id": "7468e18b-f64f-400f-915a-d0d162b8ca0a",
   "metadata": {},
   "outputs": [],
   "source": [
    "BASE_PATH = '../data/'\n",
    "PATH_DATA = BASE_PATH+'engagement_data/'"
   ]
  },
  {
   "cell_type": "code",
   "execution_count": null,
   "id": "2d0ceab5-ed8f-4caa-a4c5-29bc198b1e09",
   "metadata": {},
   "outputs": [],
   "source": []
  },
  {
   "cell_type": "markdown",
   "id": "045b75c6-4f52-42d2-a7c5-59478db939dc",
   "metadata": {},
   "source": [
    "### Content \n",
    "\n",
    "* [Summarize The Data](#first-bullet)\n",
    "* [xxx](#second-bullet)"
   ]
  },
  {
   "cell_type": "code",
   "execution_count": null,
   "id": "1c70f948-46bd-4b43-975d-37724c58dcc0",
   "metadata": {},
   "outputs": [],
   "source": []
  },
  {
   "cell_type": "markdown",
   "id": "d7e329de-0a80-41e0-8254-7afaece8299a",
   "metadata": {},
   "source": [
    "Notes :\n",
    "A student from a household with an income at or below 130 percent of the poverty income threshold is eligible for free lunch. A student from a household with an income between 130 percent and up to 185 percent of the poverty threshold is eligible for reduced price lunch. [source](https://nces.ed.gov/blogs/nces/post/free-or-reduced-price-lunch-a-proxy-for-poverty#:~:text=A%20student%20from%20a%20household,eligible%20for%20reduced%20price%20lunch.)"
   ]
  },
  {
   "cell_type": "code",
   "execution_count": null,
   "id": "bb0cd7dc-4a64-41e8-a253-0ce3844d11bf",
   "metadata": {},
   "outputs": [],
   "source": []
  },
  {
   "cell_type": "markdown",
   "id": "c4e91642-f42c-44bc-8a15-f0cbe6449d75",
   "metadata": {
    "tags": []
   },
   "source": [
    "## Summarize The Data <a class=\"anchor\" id=\"first-bullet\"></a>"
   ]
  },
  {
   "cell_type": "code",
   "execution_count": 4,
   "id": "7aad3fc4-a5a5-483e-b748-eb271eb74d89",
   "metadata": {},
   "outputs": [],
   "source": [
    "# df_eng = pd.DataFrame()\n",
    "# for f in [i for i in os.listdir(PATH_DATA) if '.csv' in i]:\n",
    "#     df_temp = pd.read_csv(PATH_DATA+f)\n",
    "#     df_temp['district_id'] = f[:-4]\n",
    "#     df_eng = df_eng.append(df_temp)\n",
    "    \n",
    "# df_eng = df_eng.reset_index()\n",
    "# del df_eng['index']\n",
    "# df_eng.to_csv(BASE_PATH+'eng_merge.csv',index = False)\n",
    "\n",
    "df_eng = pd.read_csv(BASE_PATH+'eng_merge.csv')\n",
    "df_distr = pd.read_csv(BASE_PATH+'districts_info.csv')\n",
    "df_product = pd.read_csv(BASE_PATH+'products_info.csv')"
   ]
  },
  {
   "cell_type": "code",
   "execution_count": 5,
   "id": "91329fb2-5d48-4965-986e-633b12b6faa9",
   "metadata": {},
   "outputs": [],
   "source": [
    "## Functions\n",
    "\n",
    "def matrix_normalize(d0, axis = 1):\n",
    "    if axis:\n",
    "        d1 = ((d0.transpose()/d0.sum(axis = 1)).transpose())\n",
    "    else:\n",
    "        d1 = (d0/d0.sum())\n",
    "    return d1\n",
    "\n",
    "# def matrix_viz():"
   ]
  },
  {
   "cell_type": "code",
   "execution_count": 6,
   "id": "8dfd35c1-c8f9-412d-ac50-2d214e5a1ea4",
   "metadata": {},
   "outputs": [
    {
     "data": {
      "text/plain": [
       "(22324190, 5)"
      ]
     },
     "execution_count": 6,
     "metadata": {},
     "output_type": "execute_result"
    }
   ],
   "source": [
    "df_eng.shape"
   ]
  },
  {
   "cell_type": "code",
   "execution_count": 7,
   "id": "4bb55954-06de-4902-9541-43afc2ec1825",
   "metadata": {},
   "outputs": [
    {
     "data": {
      "text/html": [
       "<div>\n",
       "<style scoped>\n",
       "    .dataframe tbody tr th:only-of-type {\n",
       "        vertical-align: middle;\n",
       "    }\n",
       "\n",
       "    .dataframe tbody tr th {\n",
       "        vertical-align: top;\n",
       "    }\n",
       "\n",
       "    .dataframe thead th {\n",
       "        text-align: right;\n",
       "    }\n",
       "</style>\n",
       "<table border=\"1\" class=\"dataframe\">\n",
       "  <thead>\n",
       "    <tr style=\"text-align: right;\">\n",
       "      <th></th>\n",
       "      <th>time</th>\n",
       "      <th>lp_id</th>\n",
       "      <th>pct_access</th>\n",
       "      <th>engagement_index</th>\n",
       "      <th>district_id</th>\n",
       "    </tr>\n",
       "  </thead>\n",
       "  <tbody>\n",
       "    <tr>\n",
       "      <th>0</th>\n",
       "      <td>2020-01-01</td>\n",
       "      <td>93690.0</td>\n",
       "      <td>0.00</td>\n",
       "      <td>NaN</td>\n",
       "      <td>1000</td>\n",
       "    </tr>\n",
       "    <tr>\n",
       "      <th>1</th>\n",
       "      <td>2020-01-01</td>\n",
       "      <td>17941.0</td>\n",
       "      <td>0.03</td>\n",
       "      <td>0.90</td>\n",
       "      <td>1000</td>\n",
       "    </tr>\n",
       "    <tr>\n",
       "      <th>2</th>\n",
       "      <td>2020-01-01</td>\n",
       "      <td>65358.0</td>\n",
       "      <td>0.03</td>\n",
       "      <td>1.20</td>\n",
       "      <td>1000</td>\n",
       "    </tr>\n",
       "    <tr>\n",
       "      <th>3</th>\n",
       "      <td>2020-01-01</td>\n",
       "      <td>98265.0</td>\n",
       "      <td>0.57</td>\n",
       "      <td>37.79</td>\n",
       "      <td>1000</td>\n",
       "    </tr>\n",
       "    <tr>\n",
       "      <th>4</th>\n",
       "      <td>2020-01-01</td>\n",
       "      <td>59257.0</td>\n",
       "      <td>0.00</td>\n",
       "      <td>NaN</td>\n",
       "      <td>1000</td>\n",
       "    </tr>\n",
       "  </tbody>\n",
       "</table>\n",
       "</div>"
      ],
      "text/plain": [
       "         time    lp_id  pct_access  engagement_index  district_id\n",
       "0  2020-01-01  93690.0        0.00               NaN         1000\n",
       "1  2020-01-01  17941.0        0.03              0.90         1000\n",
       "2  2020-01-01  65358.0        0.03              1.20         1000\n",
       "3  2020-01-01  98265.0        0.57             37.79         1000\n",
       "4  2020-01-01  59257.0        0.00               NaN         1000"
      ]
     },
     "execution_count": 7,
     "metadata": {},
     "output_type": "execute_result"
    }
   ],
   "source": [
    "df_eng.head()"
   ]
  },
  {
   "cell_type": "code",
   "execution_count": 8,
   "id": "bae98278-2e01-4a63-80a5-8a50e3edd207",
   "metadata": {},
   "outputs": [
    {
     "data": {
      "text/html": [
       "<div>\n",
       "<style scoped>\n",
       "    .dataframe tbody tr th:only-of-type {\n",
       "        vertical-align: middle;\n",
       "    }\n",
       "\n",
       "    .dataframe tbody tr th {\n",
       "        vertical-align: top;\n",
       "    }\n",
       "\n",
       "    .dataframe thead th {\n",
       "        text-align: right;\n",
       "    }\n",
       "</style>\n",
       "<table border=\"1\" class=\"dataframe\">\n",
       "  <thead>\n",
       "    <tr style=\"text-align: right;\">\n",
       "      <th></th>\n",
       "      <th>district_id</th>\n",
       "      <th>state</th>\n",
       "      <th>locale</th>\n",
       "      <th>pct_black/hispanic</th>\n",
       "      <th>pct_free/reduced</th>\n",
       "      <th>county_connections_ratio</th>\n",
       "      <th>pp_total_raw</th>\n",
       "    </tr>\n",
       "  </thead>\n",
       "  <tbody>\n",
       "    <tr>\n",
       "      <th>0</th>\n",
       "      <td>8815</td>\n",
       "      <td>Illinois</td>\n",
       "      <td>Suburb</td>\n",
       "      <td>[0, 0.2[</td>\n",
       "      <td>[0, 0.2[</td>\n",
       "      <td>[0.18, 1[</td>\n",
       "      <td>[14000, 16000[</td>\n",
       "    </tr>\n",
       "    <tr>\n",
       "      <th>1</th>\n",
       "      <td>2685</td>\n",
       "      <td>NaN</td>\n",
       "      <td>NaN</td>\n",
       "      <td>NaN</td>\n",
       "      <td>NaN</td>\n",
       "      <td>NaN</td>\n",
       "      <td>NaN</td>\n",
       "    </tr>\n",
       "    <tr>\n",
       "      <th>2</th>\n",
       "      <td>4921</td>\n",
       "      <td>Utah</td>\n",
       "      <td>Suburb</td>\n",
       "      <td>[0, 0.2[</td>\n",
       "      <td>[0.2, 0.4[</td>\n",
       "      <td>[0.18, 1[</td>\n",
       "      <td>[6000, 8000[</td>\n",
       "    </tr>\n",
       "    <tr>\n",
       "      <th>3</th>\n",
       "      <td>3188</td>\n",
       "      <td>NaN</td>\n",
       "      <td>NaN</td>\n",
       "      <td>NaN</td>\n",
       "      <td>NaN</td>\n",
       "      <td>NaN</td>\n",
       "      <td>NaN</td>\n",
       "    </tr>\n",
       "    <tr>\n",
       "      <th>4</th>\n",
       "      <td>2238</td>\n",
       "      <td>NaN</td>\n",
       "      <td>NaN</td>\n",
       "      <td>NaN</td>\n",
       "      <td>NaN</td>\n",
       "      <td>NaN</td>\n",
       "      <td>NaN</td>\n",
       "    </tr>\n",
       "  </tbody>\n",
       "</table>\n",
       "</div>"
      ],
      "text/plain": [
       "   district_id     state  locale pct_black/hispanic pct_free/reduced  \\\n",
       "0         8815  Illinois  Suburb           [0, 0.2[         [0, 0.2[   \n",
       "1         2685       NaN     NaN                NaN              NaN   \n",
       "2         4921      Utah  Suburb           [0, 0.2[       [0.2, 0.4[   \n",
       "3         3188       NaN     NaN                NaN              NaN   \n",
       "4         2238       NaN     NaN                NaN              NaN   \n",
       "\n",
       "  county_connections_ratio    pp_total_raw  \n",
       "0                [0.18, 1[  [14000, 16000[  \n",
       "1                      NaN             NaN  \n",
       "2                [0.18, 1[    [6000, 8000[  \n",
       "3                      NaN             NaN  \n",
       "4                      NaN             NaN  "
      ]
     },
     "execution_count": 8,
     "metadata": {},
     "output_type": "execute_result"
    }
   ],
   "source": [
    "df_distr.head()"
   ]
  },
  {
   "cell_type": "code",
   "execution_count": 9,
   "id": "24d8db21-9ac9-4a21-9fca-0e29656a3994",
   "metadata": {},
   "outputs": [
    {
     "data": {
      "text/html": [
       "<div>\n",
       "<style scoped>\n",
       "    .dataframe tbody tr th:only-of-type {\n",
       "        vertical-align: middle;\n",
       "    }\n",
       "\n",
       "    .dataframe tbody tr th {\n",
       "        vertical-align: top;\n",
       "    }\n",
       "\n",
       "    .dataframe thead th {\n",
       "        text-align: right;\n",
       "    }\n",
       "</style>\n",
       "<table border=\"1\" class=\"dataframe\">\n",
       "  <thead>\n",
       "    <tr style=\"text-align: right;\">\n",
       "      <th></th>\n",
       "      <th>LP ID</th>\n",
       "      <th>URL</th>\n",
       "      <th>Product Name</th>\n",
       "      <th>Provider/Company Name</th>\n",
       "      <th>Sector(s)</th>\n",
       "      <th>Primary Essential Function</th>\n",
       "    </tr>\n",
       "  </thead>\n",
       "  <tbody>\n",
       "    <tr>\n",
       "      <th>0</th>\n",
       "      <td>13117</td>\n",
       "      <td>https://www.splashmath.com</td>\n",
       "      <td>SplashLearn</td>\n",
       "      <td>StudyPad Inc.</td>\n",
       "      <td>PreK-12</td>\n",
       "      <td>LC - Digital Learning Platforms</td>\n",
       "    </tr>\n",
       "    <tr>\n",
       "      <th>1</th>\n",
       "      <td>66933</td>\n",
       "      <td>https://abcmouse.com</td>\n",
       "      <td>ABCmouse.com</td>\n",
       "      <td>Age of Learning, Inc</td>\n",
       "      <td>PreK-12</td>\n",
       "      <td>LC - Digital Learning Platforms</td>\n",
       "    </tr>\n",
       "    <tr>\n",
       "      <th>2</th>\n",
       "      <td>50479</td>\n",
       "      <td>https://www.abcya.com</td>\n",
       "      <td>ABCya!</td>\n",
       "      <td>ABCya.com, LLC</td>\n",
       "      <td>PreK-12</td>\n",
       "      <td>LC - Sites, Resources &amp; Reference - Games &amp; Si...</td>\n",
       "    </tr>\n",
       "    <tr>\n",
       "      <th>3</th>\n",
       "      <td>92993</td>\n",
       "      <td>http://www.aleks.com/</td>\n",
       "      <td>ALEKS</td>\n",
       "      <td>McGraw-Hill PreK-12</td>\n",
       "      <td>PreK-12; Higher Ed</td>\n",
       "      <td>LC - Digital Learning Platforms</td>\n",
       "    </tr>\n",
       "    <tr>\n",
       "      <th>4</th>\n",
       "      <td>73104</td>\n",
       "      <td>https://www.achieve3000.com/</td>\n",
       "      <td>Achieve3000</td>\n",
       "      <td>Achieve3000</td>\n",
       "      <td>PreK-12</td>\n",
       "      <td>LC - Digital Learning Platforms</td>\n",
       "    </tr>\n",
       "  </tbody>\n",
       "</table>\n",
       "</div>"
      ],
      "text/plain": [
       "   LP ID                           URL  Product Name  Provider/Company Name  \\\n",
       "0  13117    https://www.splashmath.com   SplashLearn          StudyPad Inc.   \n",
       "1  66933          https://abcmouse.com  ABCmouse.com  Age of Learning, Inc    \n",
       "2  50479         https://www.abcya.com        ABCya!         ABCya.com, LLC   \n",
       "3  92993         http://www.aleks.com/         ALEKS    McGraw-Hill PreK-12   \n",
       "4  73104  https://www.achieve3000.com/   Achieve3000            Achieve3000   \n",
       "\n",
       "            Sector(s)                         Primary Essential Function  \n",
       "0             PreK-12                    LC - Digital Learning Platforms  \n",
       "1             PreK-12                    LC - Digital Learning Platforms  \n",
       "2             PreK-12  LC - Sites, Resources & Reference - Games & Si...  \n",
       "3  PreK-12; Higher Ed                    LC - Digital Learning Platforms  \n",
       "4             PreK-12                    LC - Digital Learning Platforms  "
      ]
     },
     "execution_count": 9,
     "metadata": {},
     "output_type": "execute_result"
    }
   ],
   "source": [
    "df_product.head()"
   ]
  },
  {
   "cell_type": "code",
   "execution_count": null,
   "id": "d0dd8df1-0699-4c61-921d-cf75cae84030",
   "metadata": {},
   "outputs": [],
   "source": []
  },
  {
   "cell_type": "code",
   "execution_count": null,
   "id": "7ab8a88c-daf0-4639-8a55-a797ef3201f9",
   "metadata": {},
   "outputs": [],
   "source": []
  },
  {
   "cell_type": "markdown",
   "id": "229a15fe-727a-4d3c-8e5c-c03c0b5bca3b",
   "metadata": {
    "tags": []
   },
   "source": [
    "### Districts, Products and Engagements\n",
    "\n",
    "seperate summary of each table."
   ]
  },
  {
   "cell_type": "code",
   "execution_count": 10,
   "id": "088efe1d-e3c0-4e3b-8d0e-0a294e3b91a7",
   "metadata": {},
   "outputs": [
    {
     "data": {
      "text/plain": [
       "district_id                   0\n",
       "state                        57\n",
       "locale                       57\n",
       "pct_black/hispanic           57\n",
       "pct_free/reduced             85\n",
       "county_connections_ratio     71\n",
       "pp_total_raw                115\n",
       "dtype: int64"
      ]
     },
     "execution_count": 10,
     "metadata": {},
     "output_type": "execute_result"
    }
   ],
   "source": [
    "df_distr.isnull().sum()"
   ]
  },
  {
   "cell_type": "code",
   "execution_count": 11,
   "id": "d3cf48ea-8a43-4ae5-a9fc-cad293e9f1cf",
   "metadata": {},
   "outputs": [
    {
     "data": {
      "text/plain": [
       "LP ID                          0\n",
       "URL                            0\n",
       "Product Name                   0\n",
       "Provider/Company Name          1\n",
       "Sector(s)                     20\n",
       "Primary Essential Function    20\n",
       "dtype: int64"
      ]
     },
     "execution_count": 11,
     "metadata": {},
     "output_type": "execute_result"
    }
   ],
   "source": [
    "df_product.isnull().sum()"
   ]
  },
  {
   "cell_type": "code",
   "execution_count": 12,
   "id": "7230b8ca-af8d-4359-b533-6ef49d85633f",
   "metadata": {},
   "outputs": [
    {
     "data": {
      "text/plain": [
       "time                      0\n",
       "lp_id                   541\n",
       "pct_access            13447\n",
       "engagement_index    5378409\n",
       "district_id               0\n",
       "dtype: int64"
      ]
     },
     "execution_count": 12,
     "metadata": {},
     "output_type": "execute_result"
    }
   ],
   "source": [
    "df_eng.isnull().sum()"
   ]
  },
  {
   "cell_type": "code",
   "execution_count": 13,
   "id": "e4eec5dd-8a1e-45bf-b028-1819213d33af",
   "metadata": {},
   "outputs": [
    {
     "data": {
      "text/plain": [
       "array([ 0., nan])"
      ]
     },
     "execution_count": 13,
     "metadata": {},
     "output_type": "execute_result"
    }
   ],
   "source": [
    "df_eng[df_eng['engagement_index'].isnull()].pct_access.unique()"
   ]
  },
  {
   "cell_type": "code",
   "execution_count": null,
   "id": "8a19f658-acec-4a96-843d-67fda382fe00",
   "metadata": {},
   "outputs": [],
   "source": []
  },
  {
   "cell_type": "code",
   "execution_count": 14,
   "id": "a298407e-2cfa-4830-a392-a0ab04071a50",
   "metadata": {
    "tags": []
   },
   "outputs": [],
   "source": [
    "## Preparation\n",
    "df_eng['time'] = pd.to_datetime(df_eng['time'])\n",
    "df_eng['day'] = df_eng['time'].dt.strftime('%Y-%m-%d')\n",
    "df_eng['weeks'] = df_eng['time'].dt.strftime('%W')\n",
    "df_eng['weekday'] = df_eng['time'].dt.strftime('%w')\n",
    "df_eng['is_weekend'] = df_eng['weekday'].isin(['0','6'])\n",
    "\n",
    "df_distr['locale'] = df_distr['locale'].fillna('unknown')\n",
    "df_eng['lp_id'] = df_eng['lp_id'].fillna(-1)\n",
    "\n",
    "df_eng['lp_id'] = df_eng['lp_id'].astype(int).astype(str)\n",
    "df_product['LP ID'] = df_product['LP ID'].astype(int).astype(str)\n",
    "df_product['Primary Essential Function'] = df_product[\n",
    "                'Primary Essential Function'].fillna(' - ')\n",
    "\n",
    "df_product['product_functions'] = df_product['Primary Essential Function'].apply(\n",
    "    lambda x : x.split('-')[0].strip())\n",
    "\n",
    "df_product['product_essential'] = df_product['Primary Essential Function'].apply(\n",
    "    lambda x : x.split('-')[1].strip())\n",
    "\n",
    "df_product['product_essential'] = df_product['product_essential'].replace(\n",
    "            {'Sites, Resources & References':\n",
    "                         'Sites, Resources & Reference'})"
   ]
  },
  {
   "cell_type": "code",
   "execution_count": null,
   "id": "5ccf552a-6db4-4c19-ad8b-f7799ca68c28",
   "metadata": {},
   "outputs": [],
   "source": []
  },
  {
   "cell_type": "markdown",
   "id": "84601b76-3f46-4600-bbd6-9a650fcf5b5a",
   "metadata": {
    "tags": []
   },
   "source": [
    "#### Districts"
   ]
  },
  {
   "cell_type": "code",
   "execution_count": 16,
   "id": "bbeaa692-c276-4a66-ba1d-89fc200547e5",
   "metadata": {},
   "outputs": [
    {
     "data": {
      "text/plain": [
       "233"
      ]
     },
     "execution_count": 16,
     "metadata": {},
     "output_type": "execute_result"
    }
   ],
   "source": [
    "len(df_eng.district_id.unique()) ## --> 233 district"
   ]
  },
  {
   "cell_type": "code",
   "execution_count": 17,
   "id": "c50bb660-addd-46e4-b89c-e801a9c119e2",
   "metadata": {},
   "outputs": [
    {
     "data": {
      "text/plain": [
       "(233, 7)"
      ]
     },
     "execution_count": 17,
     "metadata": {},
     "output_type": "execute_result"
    }
   ],
   "source": [
    "df_distr.shape"
   ]
  },
  {
   "cell_type": "code",
   "execution_count": 18,
   "id": "f5d9a01c-8c8f-4c43-a6a4-67c5c01769e9",
   "metadata": {},
   "outputs": [
    {
     "data": {
      "text/plain": [
       "locale\n",
       "Suburb     104\n",
       "unknown     57\n",
       "Rural       33\n",
       "City        29\n",
       "Town        10\n",
       "Name: district_id, dtype: int64"
      ]
     },
     "execution_count": 18,
     "metadata": {},
     "output_type": "execute_result"
    }
   ],
   "source": [
    "df_distr.groupby('locale')['district_id'].size().sort_values(ascending=False)"
   ]
  },
  {
   "cell_type": "code",
   "execution_count": 19,
   "id": "67443104-b108-44b8-8fd9-cd86390f2003",
   "metadata": {},
   "outputs": [
    {
     "data": {
      "text/plain": [
       "county_connections_ratio\n",
       "[0.18, 1[    161\n",
       "[1, 2[         1\n",
       "dtype: int64"
      ]
     },
     "execution_count": 19,
     "metadata": {},
     "output_type": "execute_result"
    }
   ],
   "source": [
    "df_distr.groupby('county_connections_ratio').size() ## not really informatif"
   ]
  },
  {
   "cell_type": "code",
   "execution_count": 20,
   "id": "94d3948e-2401-4662-bfac-7a103d5a5baf",
   "metadata": {},
   "outputs": [
    {
     "data": {
      "text/plain": [
       "pct_black/hispanic\n",
       "[0, 0.2[      116\n",
       "[0.2, 0.4[     24\n",
       "[0.4, 0.6[     17\n",
       "[0.6, 0.8[     11\n",
       "[0.8, 1[        8\n",
       "dtype: int64"
      ]
     },
     "execution_count": 20,
     "metadata": {},
     "output_type": "execute_result"
    }
   ],
   "source": [
    "df_distr.groupby('pct_black/hispanic').size()"
   ]
  },
  {
   "cell_type": "code",
   "execution_count": 21,
   "id": "5e39ad1f-77ad-4702-8e04-573815221eb0",
   "metadata": {},
   "outputs": [
    {
     "data": {
      "text/plain": [
       "pct_free/reduced\n",
       "[0, 0.2[      46\n",
       "[0.2, 0.4[    48\n",
       "[0.4, 0.6[    37\n",
       "[0.6, 0.8[    13\n",
       "[0.8, 1[       4\n",
       "dtype: int64"
      ]
     },
     "execution_count": 21,
     "metadata": {},
     "output_type": "execute_result"
    }
   ],
   "source": [
    "df_distr.groupby('pct_free/reduced').size()"
   ]
  },
  {
   "cell_type": "code",
   "execution_count": 22,
   "id": "9ace21cd-e2b6-4658-992a-3fbbc167270f",
   "metadata": {},
   "outputs": [
    {
     "data": {
      "text/plain": [
       "pp_total_raw\n",
       "[10000, 12000[    17\n",
       "[12000, 14000[    15\n",
       "[14000, 16000[    15\n",
       "[16000, 18000[    13\n",
       "[18000, 20000[     8\n",
       "[20000, 22000[     2\n",
       "[22000, 24000[     2\n",
       "[32000, 34000[     1\n",
       "[4000, 6000[       2\n",
       "[6000, 8000[      13\n",
       "[8000, 10000[     30\n",
       "dtype: int64"
      ]
     },
     "execution_count": 22,
     "metadata": {},
     "output_type": "execute_result"
    }
   ],
   "source": [
    "df_distr.groupby('pp_total_raw').size()"
   ]
  },
  {
   "cell_type": "code",
   "execution_count": null,
   "id": "c7fd2be1-0b68-4cf6-a6b2-07e2084ad32c",
   "metadata": {},
   "outputs": [],
   "source": []
  },
  {
   "cell_type": "code",
   "execution_count": 23,
   "id": "b3759ca7-21c1-4604-80e5-110f11b55a12",
   "metadata": {},
   "outputs": [],
   "source": [
    "fr_hb_matrix = df_distr.groupby(['pct_black/hispanic',\n",
    "            'pct_free/reduced']).size().unstack().fillna(0)"
   ]
  },
  {
   "cell_type": "code",
   "execution_count": 24,
   "id": "188599ac-71ae-4806-808e-3eb659316327",
   "metadata": {},
   "outputs": [
    {
     "data": {
      "text/plain": [
       "<AxesSubplot:xlabel='pct_free/reduced', ylabel='pct_black/hispanic'>"
      ]
     },
     "execution_count": 24,
     "metadata": {},
     "output_type": "execute_result"
    },
    {
     "data": {
      "image/png": "[encoded data removed]",
      "text/plain": [
       "<Figure size 1080x576 with 2 Axes>"
      ]
     },
     "metadata": {
      "needs_background": "light"
     },
     "output_type": "display_data"
    }
   ],
   "source": [
    "plt.figure(figsize = (15,8))\n",
    "sns.set(font_scale=1.15)\n",
    "sns.heatmap(matrix_normalize(fr_hb_matrix)\n",
    "                ,annot= True, fmt = '.2%', linewidths=0.5\n",
    "                ,vmax = 0.48)"
   ]
  },
  {
   "cell_type": "code",
   "execution_count": 25,
   "id": "b0820315-253d-499a-94c4-485b38b1c957",
   "metadata": {},
   "outputs": [],
   "source": [
    "## F test to see the correlation"
   ]
  },
  {
   "cell_type": "code",
   "execution_count": null,
   "id": "39f0fff6-95bd-4823-a253-986be9e39c8b",
   "metadata": {},
   "outputs": [],
   "source": []
  },
  {
   "cell_type": "code",
   "execution_count": 26,
   "id": "76db3247-307a-46bb-ac47-0d6928d26927",
   "metadata": {},
   "outputs": [
    {
     "data": {
      "text/plain": [
       "Connecticut             30\n",
       "Utah                    29\n",
       "Massachusetts           21\n",
       "Illinois                18\n",
       "California              12\n",
       "Ohio                    11\n",
       "New York                 8\n",
       "Indiana                  7\n",
       "Missouri                 6\n",
       "Washington               6\n",
       "North Carolina           4\n",
       "Virginia                 4\n",
       "Wisconsin                3\n",
       "District Of Columbia     3\n",
       "Tennessee                2\n",
       "Name: state, dtype: int64"
      ]
     },
     "execution_count": 26,
     "metadata": {},
     "output_type": "execute_result"
    }
   ],
   "source": [
    "df_distr['state'].value_counts()[:15]"
   ]
  },
  {
   "cell_type": "code",
   "execution_count": null,
   "id": "c623d8a5-0a83-4188-a295-2eb90a707fd7",
   "metadata": {},
   "outputs": [],
   "source": []
  },
  {
   "cell_type": "code",
   "execution_count": null,
   "id": "db6b5074-48b6-48ab-bdcb-2505a614ca37",
   "metadata": {},
   "outputs": [],
   "source": []
  },
  {
   "cell_type": "markdown",
   "id": "cba06064-b7ca-4d63-a3c2-fab12c9be258",
   "metadata": {
    "tags": []
   },
   "source": [
    "#### Products"
   ]
  },
  {
   "cell_type": "code",
   "execution_count": 27,
   "id": "56254cdc-cca9-4461-a79a-0180c9162aa4",
   "metadata": {},
   "outputs": [
    {
     "data": {
      "text/plain": [
       "8647"
      ]
     },
     "execution_count": 27,
     "metadata": {},
     "output_type": "execute_result"
    }
   ],
   "source": [
    "len(df_eng.lp_id.unique()) ## --> 8647 products"
   ]
  },
  {
   "cell_type": "code",
   "execution_count": 28,
   "id": "28ab02ce-3f19-4b6c-b1b2-39884a83f978",
   "metadata": {},
   "outputs": [
    {
     "data": {
      "text/plain": [
       "(372, 8)"
      ]
     },
     "execution_count": 28,
     "metadata": {},
     "output_type": "execute_result"
    }
   ],
   "source": [
    "df_product.shape ## but we only have 372 data products details (top 372)"
   ]
  },
  {
   "cell_type": "code",
   "execution_count": 29,
   "id": "b10f3898-7a38-4bc7-9b4b-5872a71726f3",
   "metadata": {},
   "outputs": [
    {
     "data": {
      "text/plain": [
       "8278"
      ]
     },
     "execution_count": 29,
     "metadata": {},
     "output_type": "execute_result"
    }
   ],
   "source": [
    "len(set(df_eng.lp_id.unique()) - set(df_product['LP ID']))"
   ]
  },
  {
   "cell_type": "code",
   "execution_count": 30,
   "id": "a343d438-8a40-462c-b2e7-29729410ba92",
   "metadata": {},
   "outputs": [],
   "source": [
    "df_eng['has_details'] = df_eng.lp_id.isin(df_product['LP ID']).astype(int)\n",
    "df_eng2 = df_eng[df_eng.has_details == 0]"
   ]
  },
  {
   "cell_type": "code",
   "execution_count": 31,
   "id": "10015867-ec11-4182-8983-95a3c8a9f242",
   "metadata": {},
   "outputs": [
    {
     "data": {
      "text/plain": [
       "0.4762816926392402"
      ]
     },
     "execution_count": 31,
     "metadata": {},
     "output_type": "execute_result"
    }
   ],
   "source": [
    "df_eng2.shape[0]/df_eng.shape[0]"
   ]
  },
  {
   "cell_type": "code",
   "execution_count": 32,
   "id": "056b5165-0076-4ed2-8af7-f993eae740c7",
   "metadata": {},
   "outputs": [
    {
     "data": {
      "text/plain": [
       "PreK-12                          170\n",
       "PreK-12; Higher Ed; Corporate    115\n",
       "PreK-12; Higher Ed                65\n",
       "Higher Ed; Corporate               1\n",
       "Corporate                          1\n",
       "Name: Sector(s), dtype: int64"
      ]
     },
     "execution_count": 32,
     "metadata": {},
     "output_type": "execute_result"
    }
   ],
   "source": [
    "df_product['Sector(s)'].value_counts()"
   ]
  },
  {
   "cell_type": "code",
   "execution_count": 33,
   "id": "9585270b-bfc6-4faf-af39-cfeff0926c5f",
   "metadata": {},
   "outputs": [
    {
     "data": {
      "text/plain": [
       "LC           272\n",
       "CM            34\n",
       "SDO           30\n",
       "              20\n",
       "LC/CM/SDO     16\n",
       "Name: product_functions, dtype: int64"
      ]
     },
     "execution_count": 33,
     "metadata": {},
     "output_type": "execute_result"
    }
   ],
   "source": [
    "df_product['product_functions'].value_counts()"
   ]
  },
  {
   "cell_type": "code",
   "execution_count": 34,
   "id": "1b29e28b-c0b0-47bf-868d-bd9965cc07eb",
   "metadata": {},
   "outputs": [
    {
     "data": {
      "text/plain": [
       "Sites, Resources & Reference                              101\n",
       "Digital Learning Platforms                                 74\n",
       "Content Creation & Curation                                36\n",
       "Study Tools                                                35\n",
       "Classroom Engagement & Instruction                         20\n",
       "                                                           20\n",
       "Courseware & Textbooks                                     18\n",
       "Other                                                      18\n",
       "Data, Analytics & Reporting                                11\n",
       "Virtual Classroom                                           7\n",
       "Teacher Resources                                           7\n",
       "Learning Management Systems (LMS)                           5\n",
       "Online Course Providers & Technical Skills Development      5\n",
       "School Management Software                                  4\n",
       "Human Resources                                             4\n",
       "Career Planning & Job Search                                3\n",
       "Large                                                       2\n",
       "Admissions, Enrollment & Rostering                          1\n",
       "Environmental, Health & Safety (EHS) Compliance             1\n",
       "Name: product_essential, dtype: int64"
      ]
     },
     "execution_count": 34,
     "metadata": {},
     "output_type": "execute_result"
    }
   ],
   "source": [
    "df_product['product_essential'].value_counts() ## --> one essential must have one function"
   ]
  },
  {
   "cell_type": "code",
   "execution_count": 35,
   "id": "89c77511-4965-4b70-97cb-02939ee88a39",
   "metadata": {},
   "outputs": [
    {
     "data": {
      "text/plain": [
       "Google LLC                                                 30\n",
       "Microsoft                                                   6\n",
       "Houghton Mifflin Harcourt                                   6\n",
       "Learning A-Z                                                4\n",
       "IXL Learning                                                4\n",
       " Autodesk, Inc                                              3\n",
       "McGraw-Hill PreK-12                                         3\n",
       "Adobe Inc.                                                  3\n",
       "Curriculum Associates                                       3\n",
       "Scholastic Inc                                              3\n",
       "Savvas Learning Company | Formerly Pearson K12 Learning     3\n",
       "PBS                                                         3\n",
       "The College Board                                           3\n",
       "ExploreLearning, LLC                                        3\n",
       "Discovery Education                                         2\n",
       "Name: Provider/Company Name, dtype: int64"
      ]
     },
     "execution_count": 35,
     "metadata": {},
     "output_type": "execute_result"
    }
   ],
   "source": [
    "df_product['Provider/Company Name'].value_counts()[:15]"
   ]
  },
  {
   "cell_type": "code",
   "execution_count": null,
   "id": "9edb12a8-2e09-4e2f-bcc9-c9cef0678f13",
   "metadata": {},
   "outputs": [],
   "source": []
  },
  {
   "cell_type": "code",
   "execution_count": null,
   "id": "452d0963-3dc1-4e50-ae84-d4ee8ae1f347",
   "metadata": {},
   "outputs": [],
   "source": []
  },
  {
   "cell_type": "code",
   "execution_count": 36,
   "id": "705e0038-5eff-4cdc-b418-8f2a1b73f2c5",
   "metadata": {},
   "outputs": [],
   "source": [
    "# funtion_essential_matrix = df_product.groupby(['product_essential',\n",
    "#             'product_functions']).size().unstack().fillna(0)\n",
    "\n",
    "# plt.figure(figsize = (15,8))\n",
    "# sns.set(font_scale=1.15)\n",
    "# sns.heatmap(matrix_normalize(funtion_essential_matrix)\n",
    "#                 ,annot= True, fmt = '.2%', linewidths=0.5\n",
    "#                 ,vmax = 0.48)"
   ]
  },
  {
   "cell_type": "code",
   "execution_count": null,
   "id": "63fd6f2b-9f58-47a4-948a-70963ce1a0c5",
   "metadata": {},
   "outputs": [],
   "source": []
  },
  {
   "cell_type": "markdown",
   "id": "3b59a7d3-c37a-4d63-846b-71eff91a5355",
   "metadata": {},
   "source": [
    "#### Engagements"
   ]
  },
  {
   "cell_type": "code",
   "execution_count": 37,
   "id": "4ba319c0-6704-4182-a8b0-01fb1322bd09",
   "metadata": {},
   "outputs": [
    {
     "data": {
      "text/plain": [
       "(Timestamp('2020-01-01 00:00:00'), Timestamp('2020-12-31 00:00:00'))"
      ]
     },
     "execution_count": 37,
     "metadata": {},
     "output_type": "execute_result"
    }
   ],
   "source": [
    "df_eng.time.min(), df_eng.time.max()"
   ]
  },
  {
   "cell_type": "code",
   "execution_count": 38,
   "id": "e10df2ff-ed4e-4f37-89d5-f40434628e0c",
   "metadata": {},
   "outputs": [
    {
     "data": {
      "text/plain": [
       "count    1.530976e+07\n",
       "mean     7.348232e-01\n",
       "std      3.817397e+00\n",
       "min      1.000000e-02\n",
       "25%      2.000000e-02\n",
       "50%      5.000000e-02\n",
       "75%      1.900000e-01\n",
       "max      1.000000e+02\n",
       "Name: pct_access, dtype: float64"
      ]
     },
     "execution_count": 38,
     "metadata": {},
     "output_type": "execute_result"
    }
   ],
   "source": [
    "## Daily Pct Access regardless areas or product (Not Zero)\n",
    "\n",
    "## Most of time (more than 98%) less than 5% have at least one page load.\n",
    "## But there is one day on particular areas (and source) have 100% access.\n",
    "\n",
    "df_eng[df_eng['pct_access']>0]['pct_access'].describe()"
   ]
  },
  {
   "cell_type": "code",
   "execution_count": 39,
   "id": "b4775c88-3d1a-42e9-8ccc-34bc5429d351",
   "metadata": {},
   "outputs": [
    {
     "data": {
      "text/plain": [
       "4.85"
      ]
     },
     "execution_count": 39,
     "metadata": {},
     "output_type": "execute_result"
    }
   ],
   "source": [
    "df_eng['pct_access'].quantile(0.98)"
   ]
  },
  {
   "cell_type": "code",
   "execution_count": 40,
   "id": "fa17e108-59ca-4e11-8276-59fc6fbf6321",
   "metadata": {},
   "outputs": [
    {
     "data": {
      "text/plain": [
       "<seaborn.axisgrid.FacetGrid at 0x247a4ee7e48>"
      ]
     },
     "execution_count": 40,
     "metadata": {},
     "output_type": "execute_result"
    },
    {
     "data": {
      "image/png": "[encoded data removed]",
      "text/plain": [
       "<Figure size 360x360 with 1 Axes>"
      ]
     },
     "metadata": {},
     "output_type": "display_data"
    }
   ],
   "source": [
    "sns.displot(df_eng[(df_eng['pct_access']>0) & (df_eng['pct_access']<5)]['pct_access'], bins = 40)"
   ]
  },
  {
   "cell_type": "code",
   "execution_count": 41,
   "id": "b7354ff5-ba64-4726-9f2f-96b881aae21b",
   "metadata": {},
   "outputs": [],
   "source": [
    "# len((df_eng[(df_eng['pct_access']>0) & (df_eng['pct_access']<3)]))/len(df_eng[(df_eng['pct_access']>0)])"
   ]
  },
  {
   "cell_type": "code",
   "execution_count": 42,
   "id": "0eabb051-14bb-4944-9b73-39003b8a2bb6",
   "metadata": {},
   "outputs": [],
   "source": [
    "df_eng_less5 = df_eng[(df_eng['pct_access']>0) & (df_eng['pct_access']<3)]"
   ]
  },
  {
   "cell_type": "code",
   "execution_count": null,
   "id": "2f4fe1ca-a433-45b5-9dba-7b4b6bf1b990",
   "metadata": {},
   "outputs": [],
   "source": []
  },
  {
   "cell_type": "code",
   "execution_count": 43,
   "id": "7dea1037-ce1d-4a6e-9bf1-c25b2528539e",
   "metadata": {},
   "outputs": [
    {
     "data": {
      "text/plain": [
       "count    1.466653e+07\n",
       "mean     2.922911e+01\n",
       "std      1.265268e+02\n",
       "min      5.000000e-02\n",
       "25%      5.300000e-01\n",
       "50%      2.340000e+00\n",
       "75%      1.308000e+01\n",
       "max      2.302012e+04\n",
       "Name: engagement_index, dtype: float64"
      ]
     },
     "execution_count": 43,
     "metadata": {},
     "output_type": "execute_result"
    }
   ],
   "source": [
    "## Daily engagement_index regardless areas or product (Not Zero pct_access)\n",
    "\n",
    "## Most of time, the engagement index less than 450\n",
    "\n",
    "df_eng_less5['engagement_index'].describe()"
   ]
  },
  {
   "cell_type": "code",
   "execution_count": 44,
   "id": "02ff85c8-eddd-4e66-98d5-1f4a2305f568",
   "metadata": {},
   "outputs": [
    {
     "data": {
      "text/plain": [
       "(287.19, 1154.33)"
      ]
     },
     "execution_count": 44,
     "metadata": {},
     "output_type": "execute_result"
    }
   ],
   "source": [
    "df_eng_less5['engagement_index'].quantile(0.98),df_eng['engagement_index'].quantile(0.98)"
   ]
  },
  {
   "cell_type": "code",
   "execution_count": 46,
   "id": "a555e1a0-80ff-4780-89a3-75b2f763e661",
   "metadata": {},
   "outputs": [
    {
     "data": {
      "text/plain": [
       "<AxesSubplot:xlabel='engagement_index', ylabel='Count'>"
      ]
     },
     "execution_count": 46,
     "metadata": {},
     "output_type": "execute_result"
    },
    {
     "data": {
      "image/png": "[encoded data removed]",
      "text/plain": [
       "<Figure size 432x288 with 1 Axes>"
      ]
     },
     "metadata": {},
     "output_type": "display_data"
    }
   ],
   "source": [
    "sns.histplot(df_eng_less5[(df_eng_less5['engagement_index']<250)]['engagement_index'], bins = 40)"
   ]
  },
  {
   "cell_type": "code",
   "execution_count": null,
   "id": "570fc88a-58b2-4f75-885c-155c36151cdf",
   "metadata": {},
   "outputs": [],
   "source": []
  },
  {
   "cell_type": "code",
   "execution_count": 50,
   "id": "a4c491c3-4905-4477-b21c-8039292baf17",
   "metadata": {},
   "outputs": [],
   "source": [
    "day_size = df_eng.groupby('day').size()\n",
    "day_unique_product = df_eng.groupby('day')['lp_id'].apply(pd.Series.nunique)\n",
    "day_unique_areas = df_eng.groupby('day')['district_id'].apply(pd.Series.nunique)"
   ]
  },
  {
   "cell_type": "code",
   "execution_count": 51,
   "id": "19e249cd-cf4f-4344-bd01-a719d8be4579",
   "metadata": {},
   "outputs": [
    {
     "data": {
      "text/plain": [
       "<AxesSubplot:xlabel='day'>"
      ]
     },
     "execution_count": 51,
     "metadata": {},
     "output_type": "execute_result"
    },
    {
     "data": {
      "image/png": "[encoded data removed]",
      "text/plain": [
       "<Figure size 432x288 with 1 Axes>"
      ]
     },
     "metadata": {},
     "output_type": "display_data"
    }
   ],
   "source": [
    "day_size.plot()"
   ]
  },
  {
   "cell_type": "code",
   "execution_count": 66,
   "id": "420584b1-ca6d-4d19-be34-9a5f9acbc6ce",
   "metadata": {},
   "outputs": [
    {
     "data": {
      "text/plain": [
       "<AxesSubplot:xlabel='day'>"
      ]
     },
     "execution_count": 66,
     "metadata": {},
     "output_type": "execute_result"
    },
    {
     "data": {
      "image/png": "[encoded data removed]",
      "text/plain": [
       "<Figure size 432x288 with 1 Axes>"
      ]
     },
     "metadata": {},
     "output_type": "display_data"
    }
   ],
   "source": [
    "day_unique_product.plot()"
   ]
  },
  {
   "cell_type": "code",
   "execution_count": 49,
   "id": "6799fdae-d731-4d6d-883d-93b6e0acd228",
   "metadata": {},
   "outputs": [
    {
     "data": {
      "text/plain": [
       "<AxesSubplot:xlabel='day'>"
      ]
     },
     "execution_count": 49,
     "metadata": {},
     "output_type": "execute_result"
    },
    {
     "data": {
      "image/png": "[encoded data removed]",
      "text/plain": [
       "<Figure size 432x288 with 1 Axes>"
      ]
     },
     "metadata": {},
     "output_type": "display_data"
    }
   ],
   "source": [
    "day_unique_areas.plot()"
   ]
  },
  {
   "cell_type": "code",
   "execution_count": null,
   "id": "d4af7c90-0d1f-4d46-9171-d3538fa2cc8b",
   "metadata": {},
   "outputs": [],
   "source": []
  },
  {
   "cell_type": "code",
   "execution_count": null,
   "id": "f0ff60b9-ca32-4c3c-a940-e79306c3e4b3",
   "metadata": {},
   "outputs": [],
   "source": []
  },
  {
   "cell_type": "code",
   "execution_count": null,
   "id": "2367da3f-b8cf-45ad-add5-f6a88f633748",
   "metadata": {},
   "outputs": [],
   "source": []
  },
  {
   "cell_type": "code",
   "execution_count": 62,
   "id": "7db2a191-6fdd-4830-928f-72697fa448c9",
   "metadata": {},
   "outputs": [
    {
     "data": {
      "text/plain": [
       "<AxesSubplot:xlabel='day'>"
      ]
     },
     "execution_count": 62,
     "metadata": {},
     "output_type": "execute_result"
    },
    {
     "data": {
      "image/png": "[encoded data removed]",
      "text/plain": [
       "<Figure size 432x288 with 1 Axes>"
      ]
     },
     "metadata": {},
     "output_type": "display_data"
    }
   ],
   "source": [
    "## Checking Trend\n",
    "df_eng_less3.groupby('day')['engagement_index'].mean().plot()"
   ]
  },
  {
   "cell_type": "code",
   "execution_count": null,
   "id": "796f647e-c808-46eb-a855-89e709de21e8",
   "metadata": {},
   "outputs": [],
   "source": []
  },
  {
   "cell_type": "code",
   "execution_count": null,
   "id": "54b292e9-7f32-47e3-bd7e-505d18a77221",
   "metadata": {},
   "outputs": [],
   "source": []
  },
  {
   "cell_type": "code",
   "execution_count": null,
   "id": "08eaad7f-b3f1-4244-b66b-0ed72ba2c967",
   "metadata": {},
   "outputs": [],
   "source": []
  },
  {
   "cell_type": "code",
   "execution_count": null,
   "id": "27a6f1bf-52a8-4145-befa-44ab33c100f9",
   "metadata": {},
   "outputs": [],
   "source": []
  },
  {
   "cell_type": "code",
   "execution_count": null,
   "id": "46e65765-1c9f-46fd-8440-6668adc74240",
   "metadata": {},
   "outputs": [],
   "source": []
  },
  {
   "cell_type": "code",
   "execution_count": null,
   "id": "ce5d5460-ff84-41f7-bc0c-1f99fbd10a7c",
   "metadata": {},
   "outputs": [],
   "source": []
  },
  {
   "cell_type": "code",
   "execution_count": null,
   "id": "b08f0322-adf3-4ba9-ad88-27c66fae0dcf",
   "metadata": {},
   "outputs": [],
   "source": [
    "df_eng.sample(10)"
   ]
  },
  {
   "cell_type": "code",
   "execution_count": null,
   "id": "1045c33b-ea03-44f8-99b4-233329d67225",
   "metadata": {},
   "outputs": [],
   "source": [
    "## is all districts daily actives?\n",
    "areas_day_cnt = df_eng[df_eng.pct_access>0].groupby('distict_id')[\n",
    "    'time'].apply(pd.Series.nunique)\n",
    "\n",
    "areas_day_cnt.sort_values()[:15]"
   ]
  },
  {
   "cell_type": "code",
   "execution_count": null,
   "id": "44b97074-9523-4d0b-b2bc-c28dd4e0f9d8",
   "metadata": {},
   "outputs": [],
   "source": []
  }
 ],
 "metadata": {
  "kernelspec": {
   "display_name": "droid1",
   "language": "python",
   "name": "droid1"
  },
  "language_info": {
   "codemirror_mode": {
    "name": "ipython",
    "version": 3
   },
   "file_extension": ".py",
   "mimetype": "text/x-python",
   "name": "python",
   "nbconvert_exporter": "python",
   "pygments_lexer": "ipython3",
   "version": "3.7.10"
  }
 },
 "nbformat": 4,
 "nbformat_minor": 5
}
