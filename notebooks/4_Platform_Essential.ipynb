{
 "cells": [
  {
   "cell_type": "markdown",
   "id": "812c495a-afcc-414e-8853-819c9c49a7ab",
   "metadata": {},
   "source": [
    "# Learning Platform\n",
    "\n",
    "This is the pilot of analysis. Must gather some questions. Theme maybe?\n",
    "\n",
    "```Learn from Student City```\n",
    "\n",
    "Steps:\n",
    "\n",
    "1. Summarize the data\n",
    "2. Districts Groups\n",
    "3. Platform Essentials\n"
   ]
  },
  {
   "cell_type": "code",
   "execution_count": 1,
   "id": "7681231c-77ef-4f67-928b-6fc41dcea7b7",
   "metadata": {},
   "outputs": [],
   "source": [
    "# %matplotlib inline\n",
    "import pandas as pd\n",
    "import numpy as np\n",
    "import matplotlib.pyplot as plt\n",
    "import seaborn as sns\n",
    "import os\n",
    "\n",
    "from sklearn.cluster import KMeans, SpectralClustering\n",
    "from sklearn.mixture import GaussianMixture\n",
    "from sklearn.preprocessing import StandardScaler\n",
    "from sklearn.metrics import silhouette_score\n",
    "import gc\n",
    "\n",
    "import sys\n",
    "sys.path.append('../src/')\n",
    "import common"
   ]
  },
  {
   "cell_type": "code",
   "execution_count": 2,
   "id": "7468e18b-f64f-400f-915a-d0d162b8ca0a",
   "metadata": {},
   "outputs": [],
   "source": [
    "BASE_PATH = '../data/'\n",
    "PATH_DATA = BASE_PATH+'engagement_data/'"
   ]
  },
  {
   "cell_type": "code",
   "execution_count": null,
   "id": "2d0ceab5-ed8f-4caa-a4c5-29bc198b1e09",
   "metadata": {},
   "outputs": [],
   "source": []
  },
  {
   "cell_type": "markdown",
   "id": "045b75c6-4f52-42d2-a7c5-59478db939dc",
   "metadata": {},
   "source": [
    "### Content \n",
    "\n",
    "* [Summarize The Data](#first-bullet)\n",
    "* [Student City](#second-bullet)\n",
    "* [Essentials](#third-bullet)"
   ]
  },
  {
   "cell_type": "code",
   "execution_count": null,
   "id": "1c70f948-46bd-4b43-975d-37724c58dcc0",
   "metadata": {},
   "outputs": [],
   "source": []
  },
  {
   "cell_type": "markdown",
   "id": "d7e329de-0a80-41e0-8254-7afaece8299a",
   "metadata": {},
   "source": [
    "Notes :\n",
    "A student from a household with an income at or below 130 percent of the poverty income threshold is eligible for free lunch. A student from a household with an income between 130 percent and up to 185 percent of the poverty threshold is eligible for reduced price lunch. [source](https://nces.ed.gov/blogs/nces/post/free-or-reduced-price-lunch-a-proxy-for-poverty#:~:text=A%20student%20from%20a%20household,eligible%20for%20reduced%20price%20lunch.)"
   ]
  },
  {
   "cell_type": "code",
   "execution_count": null,
   "id": "bb0cd7dc-4a64-41e8-a253-0ce3844d11bf",
   "metadata": {},
   "outputs": [],
   "source": []
  },
  {
   "cell_type": "markdown",
   "id": "c4e91642-f42c-44bc-8a15-f0cbe6449d75",
   "metadata": {
    "tags": []
   },
   "source": [
    "## Summarize The Data <a class=\"anchor\" id=\"first-bullet\"></a>"
   ]
  },
  {
   "cell_type": "code",
   "execution_count": 3,
   "id": "7aad3fc4-a5a5-483e-b748-eb271eb74d89",
   "metadata": {},
   "outputs": [],
   "source": [
    "# df_eng = pd.DataFrame()\n",
    "# for f in [i for i in os.listdir(PATH_DATA) if '.csv' in i]:\n",
    "#     df_temp = pd.read_csv(PATH_DATA+f)\n",
    "#     df_temp['district_id'] = f[:-4]\n",
    "#     df_eng = df_eng.append(df_temp)\n",
    "    \n",
    "# df_eng = df_eng.reset_index()\n",
    "# del df_eng['index']\n",
    "# df_eng.to_csv(BASE_PATH+'eng_merge.csv',index = False)\n",
    "\n",
    "df_eng = pd.read_csv(BASE_PATH+'eng_merge.csv')\n",
    "df_distr = pd.read_csv(BASE_PATH+'districts_info.csv')\n",
    "df_product = pd.read_csv(BASE_PATH+'products_info.csv')"
   ]
  },
  {
   "cell_type": "code",
   "execution_count": 4,
   "id": "91329fb2-5d48-4965-986e-633b12b6faa9",
   "metadata": {},
   "outputs": [],
   "source": [
    "## Functions\n",
    "\n",
    "def matrix_normalize(d0, axis = 1):\n",
    "    if axis:\n",
    "        d1 = ((d0.transpose()/d0.sum(axis = 1)).transpose())\n",
    "    else:\n",
    "        d1 = (d0/d0.sum())\n",
    "    return d1\n",
    "\n",
    "# def matrix_viz():"
   ]
  },
  {
   "cell_type": "code",
   "execution_count": 5,
   "id": "8dfd35c1-c8f9-412d-ac50-2d214e5a1ea4",
   "metadata": {},
   "outputs": [
    {
     "data": {
      "text/plain": [
       "(22324190, 5)"
      ]
     },
     "execution_count": 5,
     "metadata": {},
     "output_type": "execute_result"
    }
   ],
   "source": [
    "df_eng.shape"
   ]
  },
  {
   "cell_type": "code",
   "execution_count": 6,
   "id": "4bb55954-06de-4902-9541-43afc2ec1825",
   "metadata": {},
   "outputs": [
    {
     "data": {
      "text/html": [
       "<div>\n",
       "<style scoped>\n",
       "    .dataframe tbody tr th:only-of-type {\n",
       "        vertical-align: middle;\n",
       "    }\n",
       "\n",
       "    .dataframe tbody tr th {\n",
       "        vertical-align: top;\n",
       "    }\n",
       "\n",
       "    .dataframe thead th {\n",
       "        text-align: right;\n",
       "    }\n",
       "</style>\n",
       "<table border=\"1\" class=\"dataframe\">\n",
       "  <thead>\n",
       "    <tr style=\"text-align: right;\">\n",
       "      <th></th>\n",
       "      <th>time</th>\n",
       "      <th>lp_id</th>\n",
       "      <th>pct_access</th>\n",
       "      <th>engagement_index</th>\n",
       "      <th>district_id</th>\n",
       "    </tr>\n",
       "  </thead>\n",
       "  <tbody>\n",
       "    <tr>\n",
       "      <th>0</th>\n",
       "      <td>2020-01-01</td>\n",
       "      <td>93690.0</td>\n",
       "      <td>0.00</td>\n",
       "      <td>NaN</td>\n",
       "      <td>1000</td>\n",
       "    </tr>\n",
       "    <tr>\n",
       "      <th>1</th>\n",
       "      <td>2020-01-01</td>\n",
       "      <td>17941.0</td>\n",
       "      <td>0.03</td>\n",
       "      <td>0.90</td>\n",
       "      <td>1000</td>\n",
       "    </tr>\n",
       "    <tr>\n",
       "      <th>2</th>\n",
       "      <td>2020-01-01</td>\n",
       "      <td>65358.0</td>\n",
       "      <td>0.03</td>\n",
       "      <td>1.20</td>\n",
       "      <td>1000</td>\n",
       "    </tr>\n",
       "    <tr>\n",
       "      <th>3</th>\n",
       "      <td>2020-01-01</td>\n",
       "      <td>98265.0</td>\n",
       "      <td>0.57</td>\n",
       "      <td>37.79</td>\n",
       "      <td>1000</td>\n",
       "    </tr>\n",
       "    <tr>\n",
       "      <th>4</th>\n",
       "      <td>2020-01-01</td>\n",
       "      <td>59257.0</td>\n",
       "      <td>0.00</td>\n",
       "      <td>NaN</td>\n",
       "      <td>1000</td>\n",
       "    </tr>\n",
       "  </tbody>\n",
       "</table>\n",
       "</div>"
      ],
      "text/plain": [
       "         time    lp_id  pct_access  engagement_index  district_id\n",
       "0  2020-01-01  93690.0        0.00               NaN         1000\n",
       "1  2020-01-01  17941.0        0.03              0.90         1000\n",
       "2  2020-01-01  65358.0        0.03              1.20         1000\n",
       "3  2020-01-01  98265.0        0.57             37.79         1000\n",
       "4  2020-01-01  59257.0        0.00               NaN         1000"
      ]
     },
     "execution_count": 6,
     "metadata": {},
     "output_type": "execute_result"
    }
   ],
   "source": [
    "df_eng.head()"
   ]
  },
  {
   "cell_type": "code",
   "execution_count": 7,
   "id": "bae98278-2e01-4a63-80a5-8a50e3edd207",
   "metadata": {},
   "outputs": [
    {
     "data": {
      "text/html": [
       "<div>\n",
       "<style scoped>\n",
       "    .dataframe tbody tr th:only-of-type {\n",
       "        vertical-align: middle;\n",
       "    }\n",
       "\n",
       "    .dataframe tbody tr th {\n",
       "        vertical-align: top;\n",
       "    }\n",
       "\n",
       "    .dataframe thead th {\n",
       "        text-align: right;\n",
       "    }\n",
       "</style>\n",
       "<table border=\"1\" class=\"dataframe\">\n",
       "  <thead>\n",
       "    <tr style=\"text-align: right;\">\n",
       "      <th></th>\n",
       "      <th>district_id</th>\n",
       "      <th>state</th>\n",
       "      <th>locale</th>\n",
       "      <th>pct_black/hispanic</th>\n",
       "      <th>pct_free/reduced</th>\n",
       "      <th>county_connections_ratio</th>\n",
       "      <th>pp_total_raw</th>\n",
       "    </tr>\n",
       "  </thead>\n",
       "  <tbody>\n",
       "    <tr>\n",
       "      <th>0</th>\n",
       "      <td>8815</td>\n",
       "      <td>Illinois</td>\n",
       "      <td>Suburb</td>\n",
       "      <td>[0, 0.2[</td>\n",
       "      <td>[0, 0.2[</td>\n",
       "      <td>[0.18, 1[</td>\n",
       "      <td>[14000, 16000[</td>\n",
       "    </tr>\n",
       "    <tr>\n",
       "      <th>1</th>\n",
       "      <td>2685</td>\n",
       "      <td>NaN</td>\n",
       "      <td>NaN</td>\n",
       "      <td>NaN</td>\n",
       "      <td>NaN</td>\n",
       "      <td>NaN</td>\n",
       "      <td>NaN</td>\n",
       "    </tr>\n",
       "    <tr>\n",
       "      <th>2</th>\n",
       "      <td>4921</td>\n",
       "      <td>Utah</td>\n",
       "      <td>Suburb</td>\n",
       "      <td>[0, 0.2[</td>\n",
       "      <td>[0.2, 0.4[</td>\n",
       "      <td>[0.18, 1[</td>\n",
       "      <td>[6000, 8000[</td>\n",
       "    </tr>\n",
       "    <tr>\n",
       "      <th>3</th>\n",
       "      <td>3188</td>\n",
       "      <td>NaN</td>\n",
       "      <td>NaN</td>\n",
       "      <td>NaN</td>\n",
       "      <td>NaN</td>\n",
       "      <td>NaN</td>\n",
       "      <td>NaN</td>\n",
       "    </tr>\n",
       "    <tr>\n",
       "      <th>4</th>\n",
       "      <td>2238</td>\n",
       "      <td>NaN</td>\n",
       "      <td>NaN</td>\n",
       "      <td>NaN</td>\n",
       "      <td>NaN</td>\n",
       "      <td>NaN</td>\n",
       "      <td>NaN</td>\n",
       "    </tr>\n",
       "  </tbody>\n",
       "</table>\n",
       "</div>"
      ],
      "text/plain": [
       "   district_id     state  locale pct_black/hispanic pct_free/reduced  \\\n",
       "0         8815  Illinois  Suburb           [0, 0.2[         [0, 0.2[   \n",
       "1         2685       NaN     NaN                NaN              NaN   \n",
       "2         4921      Utah  Suburb           [0, 0.2[       [0.2, 0.4[   \n",
       "3         3188       NaN     NaN                NaN              NaN   \n",
       "4         2238       NaN     NaN                NaN              NaN   \n",
       "\n",
       "  county_connections_ratio    pp_total_raw  \n",
       "0                [0.18, 1[  [14000, 16000[  \n",
       "1                      NaN             NaN  \n",
       "2                [0.18, 1[    [6000, 8000[  \n",
       "3                      NaN             NaN  \n",
       "4                      NaN             NaN  "
      ]
     },
     "execution_count": 7,
     "metadata": {},
     "output_type": "execute_result"
    }
   ],
   "source": [
    "df_distr.head()"
   ]
  },
  {
   "cell_type": "code",
   "execution_count": 8,
   "id": "24d8db21-9ac9-4a21-9fca-0e29656a3994",
   "metadata": {},
   "outputs": [
    {
     "data": {
      "text/html": [
       "<div>\n",
       "<style scoped>\n",
       "    .dataframe tbody tr th:only-of-type {\n",
       "        vertical-align: middle;\n",
       "    }\n",
       "\n",
       "    .dataframe tbody tr th {\n",
       "        vertical-align: top;\n",
       "    }\n",
       "\n",
       "    .dataframe thead th {\n",
       "        text-align: right;\n",
       "    }\n",
       "</style>\n",
       "<table border=\"1\" class=\"dataframe\">\n",
       "  <thead>\n",
       "    <tr style=\"text-align: right;\">\n",
       "      <th></th>\n",
       "      <th>LP ID</th>\n",
       "      <th>URL</th>\n",
       "      <th>Product Name</th>\n",
       "      <th>Provider/Company Name</th>\n",
       "      <th>Sector(s)</th>\n",
       "      <th>Primary Essential Function</th>\n",
       "    </tr>\n",
       "  </thead>\n",
       "  <tbody>\n",
       "    <tr>\n",
       "      <th>0</th>\n",
       "      <td>13117</td>\n",
       "      <td>https://www.splashmath.com</td>\n",
       "      <td>SplashLearn</td>\n",
       "      <td>StudyPad Inc.</td>\n",
       "      <td>PreK-12</td>\n",
       "      <td>LC - Digital Learning Platforms</td>\n",
       "    </tr>\n",
       "    <tr>\n",
       "      <th>1</th>\n",
       "      <td>66933</td>\n",
       "      <td>https://abcmouse.com</td>\n",
       "      <td>ABCmouse.com</td>\n",
       "      <td>Age of Learning, Inc</td>\n",
       "      <td>PreK-12</td>\n",
       "      <td>LC - Digital Learning Platforms</td>\n",
       "    </tr>\n",
       "    <tr>\n",
       "      <th>2</th>\n",
       "      <td>50479</td>\n",
       "      <td>https://www.abcya.com</td>\n",
       "      <td>ABCya!</td>\n",
       "      <td>ABCya.com, LLC</td>\n",
       "      <td>PreK-12</td>\n",
       "      <td>LC - Sites, Resources &amp; Reference - Games &amp; Si...</td>\n",
       "    </tr>\n",
       "    <tr>\n",
       "      <th>3</th>\n",
       "      <td>92993</td>\n",
       "      <td>http://www.aleks.com/</td>\n",
       "      <td>ALEKS</td>\n",
       "      <td>McGraw-Hill PreK-12</td>\n",
       "      <td>PreK-12; Higher Ed</td>\n",
       "      <td>LC - Digital Learning Platforms</td>\n",
       "    </tr>\n",
       "    <tr>\n",
       "      <th>4</th>\n",
       "      <td>73104</td>\n",
       "      <td>https://www.achieve3000.com/</td>\n",
       "      <td>Achieve3000</td>\n",
       "      <td>Achieve3000</td>\n",
       "      <td>PreK-12</td>\n",
       "      <td>LC - Digital Learning Platforms</td>\n",
       "    </tr>\n",
       "  </tbody>\n",
       "</table>\n",
       "</div>"
      ],
      "text/plain": [
       "   LP ID                           URL  Product Name  Provider/Company Name  \\\n",
       "0  13117    https://www.splashmath.com   SplashLearn          StudyPad Inc.   \n",
       "1  66933          https://abcmouse.com  ABCmouse.com  Age of Learning, Inc    \n",
       "2  50479         https://www.abcya.com        ABCya!         ABCya.com, LLC   \n",
       "3  92993         http://www.aleks.com/         ALEKS    McGraw-Hill PreK-12   \n",
       "4  73104  https://www.achieve3000.com/   Achieve3000            Achieve3000   \n",
       "\n",
       "            Sector(s)                         Primary Essential Function  \n",
       "0             PreK-12                    LC - Digital Learning Platforms  \n",
       "1             PreK-12                    LC - Digital Learning Platforms  \n",
       "2             PreK-12  LC - Sites, Resources & Reference - Games & Si...  \n",
       "3  PreK-12; Higher Ed                    LC - Digital Learning Platforms  \n",
       "4             PreK-12                    LC - Digital Learning Platforms  "
      ]
     },
     "execution_count": 8,
     "metadata": {},
     "output_type": "execute_result"
    }
   ],
   "source": [
    "df_product.head()"
   ]
  },
  {
   "cell_type": "code",
   "execution_count": null,
   "id": "d0dd8df1-0699-4c61-921d-cf75cae84030",
   "metadata": {},
   "outputs": [],
   "source": []
  },
  {
   "cell_type": "markdown",
   "id": "229a15fe-727a-4d3c-8e5c-c03c0b5bca3b",
   "metadata": {
    "tags": []
   },
   "source": [
    "### Districts, Products and Engagements\n",
    "\n",
    "seperate summary of each table."
   ]
  },
  {
   "cell_type": "code",
   "execution_count": 9,
   "id": "088efe1d-e3c0-4e3b-8d0e-0a294e3b91a7",
   "metadata": {},
   "outputs": [
    {
     "data": {
      "text/plain": [
       "district_id                   0\n",
       "state                        57\n",
       "locale                       57\n",
       "pct_black/hispanic           57\n",
       "pct_free/reduced             85\n",
       "county_connections_ratio     71\n",
       "pp_total_raw                115\n",
       "dtype: int64"
      ]
     },
     "execution_count": 9,
     "metadata": {},
     "output_type": "execute_result"
    }
   ],
   "source": [
    "df_distr.isnull().sum()"
   ]
  },
  {
   "cell_type": "code",
   "execution_count": 10,
   "id": "d3cf48ea-8a43-4ae5-a9fc-cad293e9f1cf",
   "metadata": {},
   "outputs": [
    {
     "data": {
      "text/plain": [
       "LP ID                          0\n",
       "URL                            0\n",
       "Product Name                   0\n",
       "Provider/Company Name          1\n",
       "Sector(s)                     20\n",
       "Primary Essential Function    20\n",
       "dtype: int64"
      ]
     },
     "execution_count": 10,
     "metadata": {},
     "output_type": "execute_result"
    }
   ],
   "source": [
    "df_product.isnull().sum()"
   ]
  },
  {
   "cell_type": "code",
   "execution_count": 11,
   "id": "7230b8ca-af8d-4359-b533-6ef49d85633f",
   "metadata": {},
   "outputs": [
    {
     "data": {
      "text/plain": [
       "time                      0\n",
       "lp_id                   541\n",
       "pct_access            13447\n",
       "engagement_index    5378409\n",
       "district_id               0\n",
       "dtype: int64"
      ]
     },
     "execution_count": 11,
     "metadata": {},
     "output_type": "execute_result"
    }
   ],
   "source": [
    "df_eng.isnull().sum()"
   ]
  },
  {
   "cell_type": "code",
   "execution_count": 12,
   "id": "e4eec5dd-8a1e-45bf-b028-1819213d33af",
   "metadata": {},
   "outputs": [
    {
     "data": {
      "text/plain": [
       "array([ 0., nan])"
      ]
     },
     "execution_count": 12,
     "metadata": {},
     "output_type": "execute_result"
    }
   ],
   "source": [
    "df_eng[df_eng['engagement_index'].isnull()].pct_access.unique()"
   ]
  },
  {
   "cell_type": "code",
   "execution_count": 13,
   "id": "f3daa476-73bc-49b1-9306-440bd9705b28",
   "metadata": {},
   "outputs": [
    {
     "data": {
      "text/plain": [
       "0.94"
      ]
     },
     "execution_count": 13,
     "metadata": {},
     "output_type": "execute_result"
    }
   ],
   "source": [
    "# df_eng[df_eng['pct_access'].isnull()].engagement_index.unique()\n",
    "df_eng[df_eng['pct_access']==0].engagement_index.quantile(0.95)  ## --> pct == 0 probably too small"
   ]
  },
  {
   "cell_type": "code",
   "execution_count": null,
   "id": "8a19f658-acec-4a96-843d-67fda382fe00",
   "metadata": {},
   "outputs": [],
   "source": []
  },
  {
   "cell_type": "code",
   "execution_count": 14,
   "id": "a298407e-2cfa-4830-a392-a0ab04071a50",
   "metadata": {
    "tags": []
   },
   "outputs": [],
   "source": [
    "## Preparation\n",
    "df_eng['time'] = pd.to_datetime(df_eng['time'])\n",
    "df_eng['day'] = df_eng['time'].dt.strftime('%Y-%m-%d')\n",
    "df_eng['weeks'] = df_eng['time'].dt.strftime('%W')\n",
    "df_eng['weekday'] = df_eng['time'].dt.strftime('%w')\n",
    "df_eng['is_weekend'] = df_eng['weekday'].isin(['0','6'])\n",
    "\n",
    "df_distr['locale'] = df_distr['locale'].fillna('unknown')\n",
    "df_eng['lp_id'] = df_eng['lp_id'].fillna(-1)\n",
    "\n",
    "df_eng['lp_id'] = df_eng['lp_id'].astype(int).astype(str)\n",
    "df_product['LP ID'] = df_product['LP ID'].astype(int).astype(str)\n",
    "df_product['Primary Essential Function'] = df_product[\n",
    "                'Primary Essential Function'].fillna('Unknown-Unknown')\n",
    "\n",
    "df_product['product_functions'] = df_product['Primary Essential Function'].apply(\n",
    "    lambda x : x.split('-')[0].strip())\n",
    "\n",
    "df_product['product_essential'] = df_product['Primary Essential Function'].apply(\n",
    "    lambda x : x.split('-')[1].strip())\n",
    "\n",
    "df_product['product_essential'] = df_product['product_essential'].replace(\n",
    "            {'Sites, Resources & References':\n",
    "                         'Sites, Resources & Reference'})"
   ]
  },
  {
   "cell_type": "code",
   "execution_count": null,
   "id": "5ccf552a-6db4-4c19-ad8b-f7799ca68c28",
   "metadata": {},
   "outputs": [],
   "source": []
  },
  {
   "cell_type": "markdown",
   "id": "84601b76-3f46-4600-bbd6-9a650fcf5b5a",
   "metadata": {
    "tags": []
   },
   "source": [
    "#### Districts"
   ]
  },
  {
   "cell_type": "code",
   "execution_count": 15,
   "id": "bbeaa692-c276-4a66-ba1d-89fc200547e5",
   "metadata": {},
   "outputs": [
    {
     "data": {
      "text/plain": [
       "233"
      ]
     },
     "execution_count": 15,
     "metadata": {},
     "output_type": "execute_result"
    }
   ],
   "source": [
    "len(df_eng.district_id.unique()) ## --> 233 district"
   ]
  },
  {
   "cell_type": "code",
   "execution_count": 16,
   "id": "c50bb660-addd-46e4-b89c-e801a9c119e2",
   "metadata": {},
   "outputs": [
    {
     "data": {
      "text/plain": [
       "(233, 7)"
      ]
     },
     "execution_count": 16,
     "metadata": {},
     "output_type": "execute_result"
    }
   ],
   "source": [
    "df_distr.shape"
   ]
  },
  {
   "cell_type": "code",
   "execution_count": 17,
   "id": "f5d9a01c-8c8f-4c43-a6a4-67c5c01769e9",
   "metadata": {},
   "outputs": [
    {
     "data": {
      "text/plain": [
       "locale\n",
       "Suburb     104\n",
       "unknown     57\n",
       "Rural       33\n",
       "City        29\n",
       "Town        10\n",
       "Name: district_id, dtype: int64"
      ]
     },
     "execution_count": 17,
     "metadata": {},
     "output_type": "execute_result"
    }
   ],
   "source": [
    "df_distr.groupby('locale')['district_id'].size().sort_values(ascending=False)"
   ]
  },
  {
   "cell_type": "code",
   "execution_count": 18,
   "id": "67443104-b108-44b8-8fd9-cd86390f2003",
   "metadata": {},
   "outputs": [
    {
     "data": {
      "text/plain": [
       "county_connections_ratio\n",
       "[0.18, 1[    161\n",
       "[1, 2[         1\n",
       "dtype: int64"
      ]
     },
     "execution_count": 18,
     "metadata": {},
     "output_type": "execute_result"
    }
   ],
   "source": [
    "df_distr.groupby('county_connections_ratio').size() ## not really informatif"
   ]
  },
  {
   "cell_type": "code",
   "execution_count": 19,
   "id": "94d3948e-2401-4662-bfac-7a103d5a5baf",
   "metadata": {},
   "outputs": [
    {
     "data": {
      "text/plain": [
       "pct_black/hispanic\n",
       "[0, 0.2[      116\n",
       "[0.2, 0.4[     24\n",
       "[0.4, 0.6[     17\n",
       "[0.6, 0.8[     11\n",
       "[0.8, 1[        8\n",
       "dtype: int64"
      ]
     },
     "execution_count": 19,
     "metadata": {},
     "output_type": "execute_result"
    }
   ],
   "source": [
    "df_distr.groupby('pct_black/hispanic').size()"
   ]
  },
  {
   "cell_type": "code",
   "execution_count": 20,
   "id": "5e39ad1f-77ad-4702-8e04-573815221eb0",
   "metadata": {},
   "outputs": [
    {
     "data": {
      "text/plain": [
       "pct_free/reduced\n",
       "[0, 0.2[      46\n",
       "[0.2, 0.4[    48\n",
       "[0.4, 0.6[    37\n",
       "[0.6, 0.8[    13\n",
       "[0.8, 1[       4\n",
       "dtype: int64"
      ]
     },
     "execution_count": 20,
     "metadata": {},
     "output_type": "execute_result"
    }
   ],
   "source": [
    "df_distr.groupby('pct_free/reduced').size()"
   ]
  },
  {
   "cell_type": "code",
   "execution_count": 21,
   "id": "9ace21cd-e2b6-4658-992a-3fbbc167270f",
   "metadata": {},
   "outputs": [
    {
     "data": {
      "text/plain": [
       "pp_total_raw\n",
       "[10000, 12000[    17\n",
       "[12000, 14000[    15\n",
       "[14000, 16000[    15\n",
       "[16000, 18000[    13\n",
       "[18000, 20000[     8\n",
       "[20000, 22000[     2\n",
       "[22000, 24000[     2\n",
       "[32000, 34000[     1\n",
       "[4000, 6000[       2\n",
       "[6000, 8000[      13\n",
       "[8000, 10000[     30\n",
       "dtype: int64"
      ]
     },
     "execution_count": 21,
     "metadata": {},
     "output_type": "execute_result"
    }
   ],
   "source": [
    "df_distr.groupby('pp_total_raw').size()"
   ]
  },
  {
   "cell_type": "code",
   "execution_count": null,
   "id": "c7fd2be1-0b68-4cf6-a6b2-07e2084ad32c",
   "metadata": {},
   "outputs": [],
   "source": []
  },
  {
   "cell_type": "code",
   "execution_count": 22,
   "id": "b3759ca7-21c1-4604-80e5-110f11b55a12",
   "metadata": {},
   "outputs": [],
   "source": [
    "fr_hb_matrix = df_distr.groupby(['pct_black/hispanic',\n",
    "            'pct_free/reduced']).size().unstack().fillna(0)"
   ]
  },
  {
   "cell_type": "code",
   "execution_count": 23,
   "id": "188599ac-71ae-4806-808e-3eb659316327",
   "metadata": {},
   "outputs": [
    {
     "data": {
      "text/plain": [
       "<AxesSubplot:xlabel='pct_free/reduced', ylabel='pct_black/hispanic'>"
      ]
     },
     "execution_count": 23,
     "metadata": {},
     "output_type": "execute_result"
    }
   ],
   "source": [
    "plt.figure(figsize = (15,8))\n",
    "sns.set(font_scale=1.15)\n",
    "sns.heatmap(matrix_normalize(fr_hb_matrix)\n",
    "                ,annot= True, fmt = '.2%', linewidths=0.5\n",
    "                ,vmax = 0.48)"
   ]
  },
  {
   "cell_type": "code",
   "execution_count": 24,
   "id": "b0820315-253d-499a-94c4-485b38b1c957",
   "metadata": {},
   "outputs": [],
   "source": [
    "## F test to see the correlation"
   ]
  },
  {
   "cell_type": "code",
   "execution_count": null,
   "id": "39f0fff6-95bd-4823-a253-986be9e39c8b",
   "metadata": {},
   "outputs": [],
   "source": []
  },
  {
   "cell_type": "code",
   "execution_count": 25,
   "id": "76db3247-307a-46bb-ac47-0d6928d26927",
   "metadata": {},
   "outputs": [
    {
     "data": {
      "text/plain": [
       "Connecticut             30\n",
       "Utah                    29\n",
       "Massachusetts           21\n",
       "Illinois                18\n",
       "California              12\n",
       "Ohio                    11\n",
       "New York                 8\n",
       "Indiana                  7\n",
       "Missouri                 6\n",
       "Washington               6\n",
       "North Carolina           4\n",
       "Virginia                 4\n",
       "Wisconsin                3\n",
       "District Of Columbia     3\n",
       "Tennessee                2\n",
       "Name: state, dtype: int64"
      ]
     },
     "execution_count": 25,
     "metadata": {},
     "output_type": "execute_result"
    }
   ],
   "source": [
    "df_distr['state'].value_counts()[:15]"
   ]
  },
  {
   "cell_type": "code",
   "execution_count": null,
   "id": "c623d8a5-0a83-4188-a295-2eb90a707fd7",
   "metadata": {},
   "outputs": [],
   "source": []
  },
  {
   "cell_type": "code",
   "execution_count": null,
   "id": "db6b5074-48b6-48ab-bdcb-2505a614ca37",
   "metadata": {},
   "outputs": [],
   "source": []
  },
  {
   "cell_type": "markdown",
   "id": "cba06064-b7ca-4d63-a3c2-fab12c9be258",
   "metadata": {
    "tags": []
   },
   "source": [
    "#### Products"
   ]
  },
  {
   "cell_type": "code",
   "execution_count": 26,
   "id": "56254cdc-cca9-4461-a79a-0180c9162aa4",
   "metadata": {},
   "outputs": [
    {
     "data": {
      "text/plain": [
       "8647"
      ]
     },
     "execution_count": 26,
     "metadata": {},
     "output_type": "execute_result"
    }
   ],
   "source": [
    "len(df_eng.lp_id.unique()) ## --> 8647 products"
   ]
  },
  {
   "cell_type": "code",
   "execution_count": 27,
   "id": "28ab02ce-3f19-4b6c-b1b2-39884a83f978",
   "metadata": {},
   "outputs": [
    {
     "data": {
      "text/plain": [
       "(372, 8)"
      ]
     },
     "execution_count": 27,
     "metadata": {},
     "output_type": "execute_result"
    }
   ],
   "source": [
    "df_product.shape ## but we only have 372 data products details (top 372)"
   ]
  },
  {
   "cell_type": "code",
   "execution_count": 28,
   "id": "b10f3898-7a38-4bc7-9b4b-5872a71726f3",
   "metadata": {},
   "outputs": [
    {
     "data": {
      "text/plain": [
       "8278"
      ]
     },
     "execution_count": 28,
     "metadata": {},
     "output_type": "execute_result"
    }
   ],
   "source": [
    "len(set(df_eng.lp_id.unique()) - set(df_product['LP ID']))"
   ]
  },
  {
   "cell_type": "code",
   "execution_count": 29,
   "id": "a343d438-8a40-462c-b2e7-29729410ba92",
   "metadata": {},
   "outputs": [],
   "source": [
    "df_eng['has_lp_details'] = df_eng.lp_id.isin(df_product['LP ID']).astype(int)\n",
    "df_eng2 = df_eng[df_eng.has_lp_details == 0]"
   ]
  },
  {
   "cell_type": "code",
   "execution_count": 30,
   "id": "10015867-ec11-4182-8983-95a3c8a9f242",
   "metadata": {},
   "outputs": [
    {
     "data": {
      "text/plain": [
       "0.4762816926392402"
      ]
     },
     "execution_count": 30,
     "metadata": {},
     "output_type": "execute_result"
    }
   ],
   "source": [
    "df_eng2.shape[0]/df_eng.shape[0]"
   ]
  },
  {
   "cell_type": "code",
   "execution_count": 31,
   "id": "056b5165-0076-4ed2-8af7-f993eae740c7",
   "metadata": {},
   "outputs": [
    {
     "data": {
      "text/plain": [
       "PreK-12                          170\n",
       "PreK-12; Higher Ed; Corporate    115\n",
       "PreK-12; Higher Ed                65\n",
       "Higher Ed; Corporate               1\n",
       "Corporate                          1\n",
       "Name: Sector(s), dtype: int64"
      ]
     },
     "execution_count": 31,
     "metadata": {},
     "output_type": "execute_result"
    }
   ],
   "source": [
    "df_product['Sector(s)'].value_counts()"
   ]
  },
  {
   "cell_type": "code",
   "execution_count": 32,
   "id": "9585270b-bfc6-4faf-af39-cfeff0926c5f",
   "metadata": {},
   "outputs": [
    {
     "data": {
      "text/plain": [
       "LC           272\n",
       "CM            34\n",
       "SDO           30\n",
       "Unknown       20\n",
       "LC/CM/SDO     16\n",
       "Name: product_functions, dtype: int64"
      ]
     },
     "execution_count": 32,
     "metadata": {},
     "output_type": "execute_result"
    }
   ],
   "source": [
    "df_product['product_functions'].value_counts()"
   ]
  },
  {
   "cell_type": "code",
   "execution_count": 33,
   "id": "1b29e28b-c0b0-47bf-868d-bd9965cc07eb",
   "metadata": {},
   "outputs": [
    {
     "data": {
      "text/plain": [
       "Sites, Resources & Reference                              101\n",
       "Digital Learning Platforms                                 74\n",
       "Content Creation & Curation                                36\n",
       "Study Tools                                                35\n",
       "Classroom Engagement & Instruction                         20\n",
       "Unknown                                                    20\n",
       "Courseware & Textbooks                                     18\n",
       "Other                                                      18\n",
       "Data, Analytics & Reporting                                11\n",
       "Teacher Resources                                           7\n",
       "Virtual Classroom                                           7\n",
       "Online Course Providers & Technical Skills Development      5\n",
       "Learning Management Systems (LMS)                           5\n",
       "School Management Software                                  4\n",
       "Human Resources                                             4\n",
       "Career Planning & Job Search                                3\n",
       "Large                                                       2\n",
       "Environmental, Health & Safety (EHS) Compliance             1\n",
       "Admissions, Enrollment & Rostering                          1\n",
       "Name: product_essential, dtype: int64"
      ]
     },
     "execution_count": 33,
     "metadata": {},
     "output_type": "execute_result"
    }
   ],
   "source": [
    "df_product['product_essential'].value_counts() ## --> one essential must have one function"
   ]
  },
  {
   "cell_type": "code",
   "execution_count": 34,
   "id": "89c77511-4965-4b70-97cb-02939ee88a39",
   "metadata": {},
   "outputs": [
    {
     "data": {
      "text/plain": [
       "Google LLC                                                 30\n",
       "Houghton Mifflin Harcourt                                   6\n",
       "Microsoft                                                   6\n",
       "IXL Learning                                                4\n",
       "Learning A-Z                                                4\n",
       "McGraw-Hill PreK-12                                         3\n",
       "Adobe Inc.                                                  3\n",
       "Curriculum Associates                                       3\n",
       "Savvas Learning Company | Formerly Pearson K12 Learning     3\n",
       " Autodesk, Inc                                              3\n",
       "The College Board                                           3\n",
       "PBS                                                         3\n",
       "ExploreLearning, LLC                                        3\n",
       "Scholastic Inc                                              3\n",
       "ClassDojo, Inc.                                             2\n",
       "Name: Provider/Company Name, dtype: int64"
      ]
     },
     "execution_count": 34,
     "metadata": {},
     "output_type": "execute_result"
    }
   ],
   "source": [
    "df_product['Provider/Company Name'].value_counts()[:15]"
   ]
  },
  {
   "cell_type": "code",
   "execution_count": 35,
   "id": "9edb12a8-2e09-4e2f-bcc9-c9cef0678f13",
   "metadata": {},
   "outputs": [],
   "source": [
    "del df_eng2"
   ]
  },
  {
   "cell_type": "code",
   "execution_count": 36,
   "id": "705e0038-5eff-4cdc-b418-8f2a1b73f2c5",
   "metadata": {},
   "outputs": [],
   "source": [
    "# funtion_essential_matrix = df_product.groupby(['product_essential',\n",
    "#             'product_functions']).size().unstack().fillna(0)\n",
    "\n",
    "# plt.figure(figsize = (15,8))\n",
    "# sns.set(font_scale=1.15)\n",
    "# sns.heatmap(matrix_normalize(funtion_essential_matrix)\n",
    "#                 ,annot= True, fmt = '.2%', linewidths=0.5\n",
    "#                 ,vmax = 0.48)"
   ]
  },
  {
   "cell_type": "code",
   "execution_count": 37,
   "id": "63fd6f2b-9f58-47a4-948a-70963ce1a0c5",
   "metadata": {},
   "outputs": [
    {
     "data": {
      "text/plain": [
       "176"
      ]
     },
     "execution_count": 37,
     "metadata": {},
     "output_type": "execute_result"
    }
   ],
   "source": [
    "gc.collect()"
   ]
  },
  {
   "cell_type": "markdown",
   "id": "3b59a7d3-c37a-4d63-846b-71eff91a5355",
   "metadata": {},
   "source": [
    "#### Engagements"
   ]
  },
  {
   "cell_type": "code",
   "execution_count": 38,
   "id": "4ba319c0-6704-4182-a8b0-01fb1322bd09",
   "metadata": {},
   "outputs": [
    {
     "data": {
      "text/plain": [
       "(Timestamp('2020-01-01 00:00:00'), Timestamp('2020-12-31 00:00:00'))"
      ]
     },
     "execution_count": 38,
     "metadata": {},
     "output_type": "execute_result"
    }
   ],
   "source": [
    "df_eng.time.min(), df_eng.time.max()"
   ]
  },
  {
   "cell_type": "code",
   "execution_count": 39,
   "id": "e10df2ff-ed4e-4f37-89d5-f40434628e0c",
   "metadata": {},
   "outputs": [
    {
     "data": {
      "text/plain": [
       "count    2.231074e+07\n",
       "mean     5.042399e-01\n",
       "std      3.180568e+00\n",
       "min      0.000000e+00\n",
       "25%      0.000000e+00\n",
       "50%      2.000000e-02\n",
       "75%      9.000000e-02\n",
       "max      1.000000e+02\n",
       "Name: pct_access, dtype: float64"
      ]
     },
     "execution_count": 39,
     "metadata": {},
     "output_type": "execute_result"
    }
   ],
   "source": [
    "## Daily Pct Access regardless areas or product (Not Null)\n",
    "\n",
    "## Most of time (more than 98%) less than 5% have at least one page load.\n",
    "## But there is one day on particular areas (and source) have 100% access.\n",
    "\n",
    "df_eng[df_eng['pct_access']>=0]['pct_access'].describe()"
   ]
  },
  {
   "cell_type": "code",
   "execution_count": 40,
   "id": "b4775c88-3d1a-42e9-8ccc-34bc5429d351",
   "metadata": {},
   "outputs": [
    {
     "data": {
      "text/plain": [
       "4.85"
      ]
     },
     "execution_count": 40,
     "metadata": {},
     "output_type": "execute_result"
    }
   ],
   "source": [
    "df_eng['pct_access'].quantile(0.98)"
   ]
  },
  {
   "cell_type": "code",
   "execution_count": 41,
   "id": "fa17e108-59ca-4e11-8276-59fc6fbf6321",
   "metadata": {},
   "outputs": [
    {
     "data": {
      "text/plain": [
       "<seaborn.axisgrid.FacetGrid at 0x2a331102a08>"
      ]
     },
     "execution_count": 41,
     "metadata": {},
     "output_type": "execute_result"
    }
   ],
   "source": [
    "sns.displot(df_eng[(df_eng['pct_access']>=0) & (df_eng['pct_access']<5)]['pct_access'], bins = 40)"
   ]
  },
  {
   "cell_type": "code",
   "execution_count": 42,
   "id": "b7354ff5-ba64-4726-9f2f-96b881aae21b",
   "metadata": {},
   "outputs": [],
   "source": [
    "# len((df_eng[(df_eng['pct_access']>0) & (df_eng['pct_access']<3)]))/len(df_eng[(df_eng['pct_access']>0)])"
   ]
  },
  {
   "cell_type": "code",
   "execution_count": 43,
   "id": "0eabb051-14bb-4944-9b73-39003b8a2bb6",
   "metadata": {},
   "outputs": [],
   "source": [
    "df_eng_less5 = df_eng[(df_eng['pct_access']>=0) & (df_eng['pct_access']<5)]"
   ]
  },
  {
   "cell_type": "code",
   "execution_count": 44,
   "id": "46ebcdc0-069b-4e8d-99bd-cdad3cf98969",
   "metadata": {},
   "outputs": [
    {
     "data": {
      "text/plain": [
       "0.9798725508069945"
      ]
     },
     "execution_count": 44,
     "metadata": {},
     "output_type": "execute_result"
    }
   ],
   "source": [
    "len(df_eng_less5)/len(df_eng)"
   ]
  },
  {
   "cell_type": "code",
   "execution_count": 45,
   "id": "789e06c1-af72-4632-b18d-24dd6991181f",
   "metadata": {},
   "outputs": [
    {
     "data": {
      "text/plain": [
       "0.24525696414710932"
      ]
     },
     "execution_count": 45,
     "metadata": {},
     "output_type": "execute_result"
    }
   ],
   "source": [
    "len(df_eng_less5[df_eng_less5.engagement_index.isnull()])/len(df_eng_less5)"
   ]
  },
  {
   "cell_type": "code",
   "execution_count": 46,
   "id": "ed2b2fa4-b81b-482c-be9d-1fd904366158",
   "metadata": {},
   "outputs": [
    {
     "data": {
      "text/plain": [
       "0.739551983744987"
      ]
     },
     "execution_count": 46,
     "metadata": {},
     "output_type": "execute_result"
    }
   ],
   "source": [
    "df_eng_less5 = df_eng[(df_eng['pct_access']>=0) & (df_eng['pct_access']<5) & (df_eng['engagement_index']>=0)]\n",
    "len(df_eng_less5)/len(df_eng)"
   ]
  },
  {
   "cell_type": "code",
   "execution_count": null,
   "id": "2f4fe1ca-a433-45b5-9dba-7b4b6bf1b990",
   "metadata": {},
   "outputs": [],
   "source": []
  },
  {
   "cell_type": "code",
   "execution_count": 47,
   "id": "7dea1037-ce1d-4a6e-9bf1-c25b2528539e",
   "metadata": {},
   "outputs": [
    {
     "data": {
      "text/plain": [
       "count    1.650990e+07\n",
       "mean     3.513448e+01\n",
       "std      1.751640e+02\n",
       "min      1.000000e-02\n",
       "25%      3.500000e-01\n",
       "50%      1.770000e+00\n",
       "75%      1.137000e+01\n",
       "max      4.893140e+04\n",
       "Name: engagement_index, dtype: float64"
      ]
     },
     "execution_count": 47,
     "metadata": {},
     "output_type": "execute_result"
    }
   ],
   "source": [
    "## Daily engagement_index regardless areas or product (Not Zero pct_access)\n",
    "\n",
    "## Most of time, the engagement index less than 450\n",
    "\n",
    "df_eng_less5['engagement_index'].describe()"
   ]
  },
  {
   "cell_type": "code",
   "execution_count": 48,
   "id": "02ff85c8-eddd-4e66-98d5-1f4a2305f568",
   "metadata": {},
   "outputs": [
    {
     "data": {
      "text/plain": [
       "(365.89, 1154.33)"
      ]
     },
     "execution_count": 48,
     "metadata": {},
     "output_type": "execute_result"
    }
   ],
   "source": [
    "df_eng_less5['engagement_index'].quantile(0.98),df_eng['engagement_index'].quantile(0.98)"
   ]
  },
  {
   "cell_type": "code",
   "execution_count": 49,
   "id": "a555e1a0-80ff-4780-89a3-75b2f763e661",
   "metadata": {},
   "outputs": [
    {
     "data": {
      "text/plain": [
       "<AxesSubplot:xlabel='pct_access', ylabel='Count'>"
      ]
     },
     "execution_count": 49,
     "metadata": {},
     "output_type": "execute_result"
    }
   ],
   "source": [
    "sns.histplot(df_eng_less5[(df_eng_less5['engagement_index']<250)]['engagement_index'], bins = 40)"
   ]
  },
  {
   "cell_type": "code",
   "execution_count": 50,
   "id": "a4c491c3-4905-4477-b21c-8039292baf17",
   "metadata": {},
   "outputs": [],
   "source": [
    "day_size = df_eng.groupby('day').size()\n",
    "day_unique_product = df_eng.groupby('day')['lp_id'].apply(pd.Series.nunique)\n",
    "day_unique_areas = df_eng.groupby('day')['district_id'].apply(pd.Series.nunique)\n",
    "day_mean_eng_less5 = df_eng_less5.groupby('day')['engagement_index'].mean()"
   ]
  },
  {
   "cell_type": "code",
   "execution_count": 51,
   "id": "570fc88a-58b2-4f75-885c-155c36151cdf",
   "metadata": {},
   "outputs": [],
   "source": [
    "del df_eng_less5"
   ]
  },
  {
   "cell_type": "code",
   "execution_count": 52,
   "id": "4cefa850-b104-456d-95b9-c992ec363f58",
   "metadata": {},
   "outputs": [
    {
     "data": {
      "text/plain": [
       "112"
      ]
     },
     "execution_count": 52,
     "metadata": {},
     "output_type": "execute_result"
    }
   ],
   "source": [
    "gc.collect()"
   ]
  },
  {
   "cell_type": "code",
   "execution_count": 53,
   "id": "19e249cd-cf4f-4344-bd01-a719d8be4579",
   "metadata": {},
   "outputs": [
    {
     "data": {
      "text/plain": [
       "<AxesSubplot:xlabel='day', ylabel='Count'>"
      ]
     },
     "execution_count": 53,
     "metadata": {},
     "output_type": "execute_result"
    }
   ],
   "source": [
    "day_size.plot(figsize = (15,8))"
   ]
  },
  {
   "cell_type": "code",
   "execution_count": 54,
   "id": "dff5519e-2a79-47af-81c9-17ff6d1ad2eb",
   "metadata": {},
   "outputs": [
    {
     "data": {
      "text/plain": [
       "<AxesSubplot:xlabel='day', ylabel='Count'>"
      ]
     },
     "execution_count": 54,
     "metadata": {},
     "output_type": "execute_result"
    }
   ],
   "source": [
    "day_size['2020-05-01':'2020-05-15'].plot(figsize = (15,8))"
   ]
  },
  {
   "cell_type": "code",
   "execution_count": null,
   "id": "a78a1608-7660-4fb2-937d-c4750c00c51b",
   "metadata": {},
   "outputs": [],
   "source": []
  },
  {
   "cell_type": "code",
   "execution_count": 55,
   "id": "420584b1-ca6d-4d19-be34-9a5f9acbc6ce",
   "metadata": {},
   "outputs": [
    {
     "data": {
      "text/plain": [
       "<AxesSubplot:xlabel='day', ylabel='Count'>"
      ]
     },
     "execution_count": 55,
     "metadata": {},
     "output_type": "execute_result"
    }
   ],
   "source": [
    "day_unique_product.plot(figsize = (15,8))"
   ]
  },
  {
   "cell_type": "code",
   "execution_count": 56,
   "id": "6799fdae-d731-4d6d-883d-93b6e0acd228",
   "metadata": {},
   "outputs": [
    {
     "data": {
      "text/plain": [
       "<AxesSubplot:xlabel='day', ylabel='Count'>"
      ]
     },
     "execution_count": 56,
     "metadata": {},
     "output_type": "execute_result"
    }
   ],
   "source": [
    "day_unique_areas.plot(figsize = (15,8))"
   ]
  },
  {
   "cell_type": "code",
   "execution_count": 57,
   "id": "7db2a191-6fdd-4830-928f-72697fa448c9",
   "metadata": {},
   "outputs": [
    {
     "data": {
      "text/plain": [
       "<AxesSubplot:xlabel='day', ylabel='Count'>"
      ]
     },
     "execution_count": 57,
     "metadata": {},
     "output_type": "execute_result"
    }
   ],
   "source": [
    "day_mean_eng_less5.plot(figsize = (15,8))"
   ]
  },
  {
   "cell_type": "code",
   "execution_count": null,
   "id": "796f647e-c808-46eb-a855-89e709de21e8",
   "metadata": {},
   "outputs": [],
   "source": []
  },
  {
   "cell_type": "markdown",
   "id": "3c98d566-a5d9-41d5-a286-c40a93130dd5",
   "metadata": {},
   "source": [
    "## E-Student Type <a class=\"anchor\" id=\"second-bullet\"></a>"
   ]
  },
  {
   "cell_type": "code",
   "execution_count": 58,
   "id": "b08f0322-adf3-4ba9-ad88-27c66fae0dcf",
   "metadata": {},
   "outputs": [
    {
     "data": {
      "text/html": [
       "<div>\n",
       "<style scoped>\n",
       "    .dataframe tbody tr th:only-of-type {\n",
       "        vertical-align: middle;\n",
       "    }\n",
       "\n",
       "    .dataframe tbody tr th {\n",
       "        vertical-align: top;\n",
       "    }\n",
       "\n",
       "    .dataframe thead th {\n",
       "        text-align: right;\n",
       "    }\n",
       "</style>\n",
       "<table border=\"1\" class=\"dataframe\">\n",
       "  <thead>\n",
       "    <tr style=\"text-align: right;\">\n",
       "      <th></th>\n",
       "      <th>time</th>\n",
       "      <th>lp_id</th>\n",
       "      <th>pct_access</th>\n",
       "      <th>engagement_index</th>\n",
       "      <th>district_id</th>\n",
       "      <th>day</th>\n",
       "      <th>weeks</th>\n",
       "      <th>weekday</th>\n",
       "      <th>is_weekend</th>\n",
       "      <th>has_lp_details</th>\n",
       "    </tr>\n",
       "  </thead>\n",
       "  <tbody>\n",
       "    <tr>\n",
       "      <th>21290319</th>\n",
       "      <td>2020-09-18</td>\n",
       "      <td>81544</td>\n",
       "      <td>0.01</td>\n",
       "      <td>0.52</td>\n",
       "      <td>9537</td>\n",
       "      <td>2020-09-18</td>\n",
       "      <td>37</td>\n",
       "      <td>5</td>\n",
       "      <td>False</td>\n",
       "      <td>0</td>\n",
       "    </tr>\n",
       "    <tr>\n",
       "      <th>6623103</th>\n",
       "      <td>2020-04-27</td>\n",
       "      <td>20050</td>\n",
       "      <td>0.07</td>\n",
       "      <td>10.68</td>\n",
       "      <td>3266</td>\n",
       "      <td>2020-04-27</td>\n",
       "      <td>17</td>\n",
       "      <td>1</td>\n",
       "      <td>False</td>\n",
       "      <td>0</td>\n",
       "    </tr>\n",
       "    <tr>\n",
       "      <th>9517006</th>\n",
       "      <td>2020-03-20</td>\n",
       "      <td>29158</td>\n",
       "      <td>0.20</td>\n",
       "      <td>4.93</td>\n",
       "      <td>4314</td>\n",
       "      <td>2020-03-20</td>\n",
       "      <td>11</td>\n",
       "      <td>5</td>\n",
       "      <td>False</td>\n",
       "      <td>1</td>\n",
       "    </tr>\n",
       "    <tr>\n",
       "      <th>13427338</th>\n",
       "      <td>2020-12-23</td>\n",
       "      <td>11237</td>\n",
       "      <td>0.02</td>\n",
       "      <td>5.66</td>\n",
       "      <td>6049</td>\n",
       "      <td>2020-12-23</td>\n",
       "      <td>51</td>\n",
       "      <td>3</td>\n",
       "      <td>False</td>\n",
       "      <td>1</td>\n",
       "    </tr>\n",
       "    <tr>\n",
       "      <th>21985605</th>\n",
       "      <td>2020-10-08</td>\n",
       "      <td>37296</td>\n",
       "      <td>0.00</td>\n",
       "      <td>0.05</td>\n",
       "      <td>9812</td>\n",
       "      <td>2020-10-08</td>\n",
       "      <td>40</td>\n",
       "      <td>4</td>\n",
       "      <td>False</td>\n",
       "      <td>0</td>\n",
       "    </tr>\n",
       "  </tbody>\n",
       "</table>\n",
       "</div>"
      ],
      "text/plain": [
       "               time  lp_id  pct_access  engagement_index  district_id  \\\n",
       "21290319 2020-09-18  81544        0.01              0.52         9537   \n",
       "6623103  2020-04-27  20050        0.07             10.68         3266   \n",
       "9517006  2020-03-20  29158        0.20              4.93         4314   \n",
       "13427338 2020-12-23  11237        0.02              5.66         6049   \n",
       "21985605 2020-10-08  37296        0.00              0.05         9812   \n",
       "\n",
       "                 day weeks weekday  is_weekend  has_lp_details  \n",
       "21290319  2020-09-18    37       5       False               0  \n",
       "6623103   2020-04-27    17       1       False               0  \n",
       "9517006   2020-03-20    11       5       False               1  \n",
       "13427338  2020-12-23    51       3       False               1  \n",
       "21985605  2020-10-08    40       4       False               0  "
      ]
     },
     "execution_count": 58,
     "metadata": {},
     "output_type": "execute_result"
    }
   ],
   "source": [
    "df_eng.sample(5)"
   ]
  },
  {
   "cell_type": "code",
   "execution_count": 59,
   "id": "1045c33b-ea03-44f8-99b4-233329d67225",
   "metadata": {},
   "outputs": [],
   "source": [
    "df_eng_on = df_eng[df_eng.engagement_index > 0] "
   ]
  },
  {
   "cell_type": "code",
   "execution_count": 60,
   "id": "5933f8fe-a5cb-4118-8196-da3bf505caf2",
   "metadata": {},
   "outputs": [],
   "source": [
    "df_district_summary1 = df_eng_on.groupby('district_id').agg({'day':pd.Series.nunique, 'lp_id': pd.Series.nunique, \n",
    "                                                   'engagement_index':np.mean})"
   ]
  },
  {
   "cell_type": "code",
   "execution_count": 61,
   "id": "8765db0f-c8af-439b-a253-f2f40f186238",
   "metadata": {},
   "outputs": [
    {
     "data": {
      "text/html": [
       "<div>\n",
       "<style scoped>\n",
       "    .dataframe tbody tr th:only-of-type {\n",
       "        vertical-align: middle;\n",
       "    }\n",
       "\n",
       "    .dataframe tbody tr th {\n",
       "        vertical-align: top;\n",
       "    }\n",
       "\n",
       "    .dataframe thead th {\n",
       "        text-align: right;\n",
       "    }\n",
       "</style>\n",
       "<table border=\"1\" class=\"dataframe\">\n",
       "  <thead>\n",
       "    <tr style=\"text-align: right;\">\n",
       "      <th></th>\n",
       "      <th>day</th>\n",
       "      <th>lp_id</th>\n",
       "      <th>engagement_index</th>\n",
       "    </tr>\n",
       "    <tr>\n",
       "      <th>district_id</th>\n",
       "      <th></th>\n",
       "      <th></th>\n",
       "      <th></th>\n",
       "    </tr>\n",
       "  </thead>\n",
       "  <tbody>\n",
       "    <tr>\n",
       "      <th>1000</th>\n",
       "      <td>366</td>\n",
       "      <td>2303</td>\n",
       "      <td>192.102937</td>\n",
       "    </tr>\n",
       "    <tr>\n",
       "      <th>1039</th>\n",
       "      <td>366</td>\n",
       "      <td>1363</td>\n",
       "      <td>226.013791</td>\n",
       "    </tr>\n",
       "    <tr>\n",
       "      <th>1044</th>\n",
       "      <td>366</td>\n",
       "      <td>5143</td>\n",
       "      <td>88.548682</td>\n",
       "    </tr>\n",
       "    <tr>\n",
       "      <th>1052</th>\n",
       "      <td>366</td>\n",
       "      <td>2132</td>\n",
       "      <td>314.999440</td>\n",
       "    </tr>\n",
       "    <tr>\n",
       "      <th>1131</th>\n",
       "      <td>347</td>\n",
       "      <td>988</td>\n",
       "      <td>113.538369</td>\n",
       "    </tr>\n",
       "  </tbody>\n",
       "</table>\n",
       "</div>"
      ],
      "text/plain": [
       "             day  lp_id  engagement_index\n",
       "district_id                              \n",
       "1000         366   2303        192.102937\n",
       "1039         366   1363        226.013791\n",
       "1044         366   5143         88.548682\n",
       "1052         366   2132        314.999440\n",
       "1131         347    988        113.538369"
      ]
     },
     "execution_count": 61,
     "metadata": {},
     "output_type": "execute_result"
    }
   ],
   "source": [
    "df_district_summary1.head()"
   ]
  },
  {
   "cell_type": "code",
   "execution_count": 62,
   "id": "2082328a-934d-43c0-aa1f-31097730a0b0",
   "metadata": {},
   "outputs": [
    {
     "data": {
      "text/plain": [
       "233"
      ]
     },
     "execution_count": 62,
     "metadata": {},
     "output_type": "execute_result"
    }
   ],
   "source": [
    "len(df_district_summary1)"
   ]
  },
  {
   "cell_type": "code",
   "execution_count": 63,
   "id": "8c04dc58-9f5a-4889-aea9-119b271b1249",
   "metadata": {},
   "outputs": [
    {
     "data": {
      "text/plain": [
       "<AxesSubplot:xlabel='day', ylabel='Count'>"
      ]
     },
     "execution_count": 63,
     "metadata": {},
     "output_type": "execute_result"
    }
   ],
   "source": [
    "sns.scatterplot(data = df_district_summary1, x = 'lp_id', y = 'engagement_index', hue = 'day')"
   ]
  },
  {
   "cell_type": "code",
   "execution_count": 64,
   "id": "838d01d3-df6f-499e-bf3d-7a409bc2cbcd",
   "metadata": {},
   "outputs": [
    {
     "data": {
      "text/html": [
       "<div>\n",
       "<style scoped>\n",
       "    .dataframe tbody tr th:only-of-type {\n",
       "        vertical-align: middle;\n",
       "    }\n",
       "\n",
       "    .dataframe tbody tr th {\n",
       "        vertical-align: top;\n",
       "    }\n",
       "\n",
       "    .dataframe thead th {\n",
       "        text-align: right;\n",
       "    }\n",
       "</style>\n",
       "<table border=\"1\" class=\"dataframe\">\n",
       "  <thead>\n",
       "    <tr style=\"text-align: right;\">\n",
       "      <th></th>\n",
       "      <th>day</th>\n",
       "      <th>lp_id</th>\n",
       "      <th>engagement_index</th>\n",
       "    </tr>\n",
       "  </thead>\n",
       "  <tbody>\n",
       "    <tr>\n",
       "      <th>count</th>\n",
       "      <td>233.000000</td>\n",
       "      <td>233.000000</td>\n",
       "      <td>233.000000</td>\n",
       "    </tr>\n",
       "    <tr>\n",
       "      <th>mean</th>\n",
       "      <td>331.283262</td>\n",
       "      <td>2337.553648</td>\n",
       "      <td>238.959029</td>\n",
       "    </tr>\n",
       "    <tr>\n",
       "      <th>std</th>\n",
       "      <td>79.183803</td>\n",
       "      <td>1141.070304</td>\n",
       "      <td>190.676872</td>\n",
       "    </tr>\n",
       "    <tr>\n",
       "      <th>min</th>\n",
       "      <td>13.000000</td>\n",
       "      <td>245.000000</td>\n",
       "      <td>19.488887</td>\n",
       "    </tr>\n",
       "    <tr>\n",
       "      <th>25%</th>\n",
       "      <td>350.000000</td>\n",
       "      <td>1483.000000</td>\n",
       "      <td>113.174975</td>\n",
       "    </tr>\n",
       "    <tr>\n",
       "      <th>50%</th>\n",
       "      <td>366.000000</td>\n",
       "      <td>2205.000000</td>\n",
       "      <td>182.057322</td>\n",
       "    </tr>\n",
       "    <tr>\n",
       "      <th>75%</th>\n",
       "      <td>366.000000</td>\n",
       "      <td>3009.000000</td>\n",
       "      <td>312.204788</td>\n",
       "    </tr>\n",
       "    <tr>\n",
       "      <th>max</th>\n",
       "      <td>366.000000</td>\n",
       "      <td>5395.000000</td>\n",
       "      <td>1311.816298</td>\n",
       "    </tr>\n",
       "  </tbody>\n",
       "</table>\n",
       "</div>"
      ],
      "text/plain": [
       "              day        lp_id  engagement_index\n",
       "count  233.000000   233.000000        233.000000\n",
       "mean   331.283262  2337.553648        238.959029\n",
       "std     79.183803  1141.070304        190.676872\n",
       "min     13.000000   245.000000         19.488887\n",
       "25%    350.000000  1483.000000        113.174975\n",
       "50%    366.000000  2205.000000        182.057322\n",
       "75%    366.000000  3009.000000        312.204788\n",
       "max    366.000000  5395.000000       1311.816298"
      ]
     },
     "execution_count": 64,
     "metadata": {},
     "output_type": "execute_result"
    }
   ],
   "source": [
    "## Capping the engagement index\n",
    "df_district_summary1.describe()"
   ]
  },
  {
   "cell_type": "code",
   "execution_count": null,
   "id": "61cb8373-e49e-417a-ba6d-30d56828f58e",
   "metadata": {},
   "outputs": [],
   "source": []
  },
  {
   "cell_type": "markdown",
   "id": "2f5e37cb-afd5-4a80-8b20-0cf2ee7882e0",
   "metadata": {},
   "source": [
    "### Areas Clustering"
   ]
  },
  {
   "cell_type": "code",
   "execution_count": null,
   "id": "b5630837-000c-4c89-a9a6-9db53a384e31",
   "metadata": {},
   "outputs": [],
   "source": []
  },
  {
   "cell_type": "code",
   "execution_count": 65,
   "id": "db248d83-d6d9-4f11-84b4-64e027e40e17",
   "metadata": {},
   "outputs": [
    {
     "data": {
      "text/plain": [
       "(573.4923646943928, 4524.4)"
      ]
     },
     "execution_count": 65,
     "metadata": {},
     "output_type": "execute_result"
    }
   ],
   "source": [
    "df_district_summary1.engagement_index.quantile(0.95), df_district_summary1.lp_id.quantile(0.95)"
   ]
  },
  {
   "cell_type": "code",
   "execution_count": 66,
   "id": "01380b67-50f0-4744-8ea3-47555e0392e9",
   "metadata": {},
   "outputs": [],
   "source": [
    "df_district_summary1['engagement_index'] = np.where(df_district_summary1.engagement_index>600, \n",
    "                                        600, df_district_summary1.engagement_index)\n",
    "\n",
    "df_district_summary1['lp_id'] = np.where(df_district_summary1.lp_id>4500, \n",
    "                                        4500, df_district_summary1.lp_id)"
   ]
  },
  {
   "cell_type": "code",
   "execution_count": null,
   "id": "5be524bb-6c83-4706-91f1-590bd9489e8d",
   "metadata": {},
   "outputs": [],
   "source": []
  },
  {
   "cell_type": "code",
   "execution_count": 67,
   "id": "60aefd75-dc1f-4ca6-833c-cebad22779de",
   "metadata": {
    "tags": []
   },
   "outputs": [],
   "source": [
    "# ## KMeans\n",
    "# ss_trf = StandardScaler()\n",
    "# XX = df_district_summary1.values\n",
    "# XX_s = ss_trf.fit_transform(XX)\n",
    "\n",
    "# df_sil_score = pd.DataFrame()\n",
    "# for j in range(10):\n",
    "#     k_list = []\n",
    "#     ss_list = []\n",
    "#     for kk in [i+2 for i in range(10)]:\n",
    "# #         k_clus_temp = KMeans(n_clusters = kk)\n",
    "# #         k_clus_temp.fit(XX_s)\n",
    "# #         clusters_temp = k_clus_temp.labels_\n",
    "        \n",
    "        \n",
    "#         kclus_temp = SpectralClustering(n_clusters = kk, gamma = 0.8, n_init=25)\n",
    "#         clustering_fit = kclus_temp.fit(XX_s)\n",
    "#         clusters_temp = clustering_fit.labels_\n",
    "        \n",
    "#         k_list.append(kk)\n",
    "#         ss_list.append(silhouette_score(XX_s,clusters_temp))\n",
    "        \n",
    "#         df_temp = pd.DataFrame({'k_list' : k_list, 'sil_score': ss_list})\n",
    "#         df_sil_score = df_sil_score.append(df_temp)\n",
    "\n",
    "# df_sil_score = df_sil_score.reset_index(drop = True)\n",
    "# sns.boxplot(data = df_sil_score, x = 'k_list', y = 'sil_score')\n",
    "# plt.vlines(x = 1, ymax=0.58, ymin = 0.32, colors='r')"
   ]
  },
  {
   "cell_type": "code",
   "execution_count": 68,
   "id": "8d0443ad-f745-475b-996e-a2dde3bd37ac",
   "metadata": {
    "tags": []
   },
   "outputs": [],
   "source": [
    "# ss_trf = StandardScaler()\n",
    "# XX = df_district_summary1.values\n",
    "# XX_s = ss_trf.fit_transform(XX)\n",
    "\n",
    "# df_sil_score = pd.DataFrame()\n",
    "# for j in range(30):\n",
    "#     g_list = [0.1,0.6,0.8,1.6,3.2]\n",
    "#     n_list = [10,15,25,35,50]\n",
    "    \n",
    "#     res_sil = []\n",
    "#     for gg in g_list:\n",
    "#         for nit in n_list:\n",
    "#             kclus_temp = SpectralClustering(n_clusters = 3, gamma = gg, n_init=nit\n",
    "#                                                 , degree=3, n_jobs=3)\n",
    "#             clustering_fit = kclus_temp.fit(XX_s)\n",
    "#             clusters_temp = clustering_fit.labels_\n",
    "#             sil_score = silhouette_score(XX_s,clusters_temp)\n",
    "            \n",
    "#             res_sil.append([gg,nit,sil_score])\n",
    "\n",
    "# df_sil_score2 = pd.DataFrame(res_sil, columns = ['gamma','init','sil_score'])\n",
    "\n",
    "# hmat = df_sil_score2.groupby(['gamma','init']).mean().unstack()\n",
    "\n",
    "# plt.figure(figsize = (15,8))\n",
    "# sns.set(font_scale=1.15)\n",
    "# sns.heatmap(hmat\n",
    "#                 ,annot= True, fmt = '.2%', linewidths=0.5\n",
    "#                 ,vmax = 0.57, vmin = 0.54)"
   ]
  },
  {
   "cell_type": "code",
   "execution_count": 69,
   "id": "cecf55c6-b461-40ce-9a88-3f8ec980a788",
   "metadata": {},
   "outputs": [],
   "source": [
    "ss_trf = StandardScaler()\n",
    "XX = df_district_summary1.values\n",
    "XX_s = ss_trf.fit_transform(XX)\n",
    "\n",
    "k_clus = KMeans(n_clusters = 3, random_state=100)\n",
    "k_clus.fit(XX_s)\n",
    "df_district_summary1['cls'] = k_clus.labels_"
   ]
  },
  {
   "cell_type": "code",
   "execution_count": null,
   "id": "61db91ce-e1f7-4deb-8465-0d50745663c5",
   "metadata": {},
   "outputs": [],
   "source": []
  },
  {
   "cell_type": "markdown",
   "id": "12df3087-0520-4534-8bbf-2c868c3cccf3",
   "metadata": {},
   "source": [
    "### Clusters Description"
   ]
  },
  {
   "cell_type": "code",
   "execution_count": 70,
   "id": "d4f23aa3-0cb2-4502-9798-413252c01b45",
   "metadata": {},
   "outputs": [
    {
     "data": {
      "image/png": "[encoded data removed]",
      "text/plain": [
       "<Figure size 1500x800 with 2 Axes>"
      ]
     },
     "metadata": {},
     "output_type": "display_data"
    },
    {
     "data": {
      "image/png": "[encoded data removed]",
      "text/plain": [
       "<Figure size 1500x800 with 1 Axes>"
      ]
     },
     "metadata": {},
     "output_type": "display_data"
    },
    {
     "data": {
      "image/png": "[encoded data removed]",
      "text/plain": [
       "<Figure size 640x480 with 1 Axes>"
      ]
     },
     "metadata": {},
     "output_type": "display_data"
    },
    {
     "data": {
      "image/png": "[encoded data removed]",
      "text/plain": [
       "<Figure size 640x480 with 1 Axes>"
      ]
     },
     "metadata": {},
     "output_type": "display_data"
    }
   ],
   "source": [
    "for c in ['day', 'lp_id', 'engagement_index']:\n",
    "#     sorted_id = df_district_summary1.groupby('cls')[c].quantile(0.5).sort_values().index\n",
    "    sorted_id = None\n",
    "    sns.boxplot(data = df_district_summary1, x = 'cls', y = c, order=sorted_id)\n",
    "    plt.show()"
   ]
  },
  {
   "cell_type": "markdown",
   "id": "a5c8ed63-b18d-4bfc-addd-66f1324bcad0",
   "metadata": {
    "tags": []
   },
   "source": []
  },
  {
   "cell_type": "code",
   "execution_count": 71,
   "id": "028ca1da-e5c6-4448-9b53-7e9bbc948563",
   "metadata": {},
   "outputs": [
    {
     "data": {
      "text/plain": [
       "cls\n",
       "0    134\n",
       "1     76\n",
       "2     23\n",
       "dtype: int64"
      ]
     },
     "execution_count": 71,
     "metadata": {},
     "output_type": "execute_result"
    }
   ],
   "source": [
    "df_district_summary1.groupby('cls').size()"
   ]
  },
  {
   "cell_type": "code",
   "execution_count": 72,
   "id": "163de3f0-1702-446a-a723-87472f9ca4b0",
   "metadata": {},
   "outputs": [
    {
     "data": {
      "text/html": [
       "<div>\n",
       "<style scoped>\n",
       "    .dataframe tbody tr th:only-of-type {\n",
       "        vertical-align: middle;\n",
       "    }\n",
       "\n",
       "    .dataframe tbody tr th {\n",
       "        vertical-align: top;\n",
       "    }\n",
       "\n",
       "    .dataframe thead th {\n",
       "        text-align: right;\n",
       "    }\n",
       "</style>\n",
       "<table border=\"1\" class=\"dataframe\">\n",
       "  <thead>\n",
       "    <tr style=\"text-align: right;\">\n",
       "      <th></th>\n",
       "      <th>day</th>\n",
       "      <th>lp_id</th>\n",
       "      <th>engagement_index</th>\n",
       "      <th>cls</th>\n",
       "    </tr>\n",
       "    <tr>\n",
       "      <th>district_id</th>\n",
       "      <th></th>\n",
       "      <th></th>\n",
       "      <th></th>\n",
       "      <th></th>\n",
       "    </tr>\n",
       "  </thead>\n",
       "  <tbody>\n",
       "    <tr>\n",
       "      <th>1000</th>\n",
       "      <td>366</td>\n",
       "      <td>2303</td>\n",
       "      <td>192.102937</td>\n",
       "      <td>0</td>\n",
       "    </tr>\n",
       "    <tr>\n",
       "      <th>1039</th>\n",
       "      <td>366</td>\n",
       "      <td>1363</td>\n",
       "      <td>226.013791</td>\n",
       "      <td>1</td>\n",
       "    </tr>\n",
       "    <tr>\n",
       "      <th>1044</th>\n",
       "      <td>366</td>\n",
       "      <td>4500</td>\n",
       "      <td>88.548682</td>\n",
       "      <td>0</td>\n",
       "    </tr>\n",
       "    <tr>\n",
       "      <th>1052</th>\n",
       "      <td>366</td>\n",
       "      <td>2132</td>\n",
       "      <td>314.999440</td>\n",
       "      <td>1</td>\n",
       "    </tr>\n",
       "    <tr>\n",
       "      <th>1131</th>\n",
       "      <td>347</td>\n",
       "      <td>988</td>\n",
       "      <td>113.538369</td>\n",
       "      <td>1</td>\n",
       "    </tr>\n",
       "  </tbody>\n",
       "</table>\n",
       "</div>"
      ],
      "text/plain": [
       "             day  lp_id  engagement_index  cls\n",
       "district_id                                   \n",
       "1000         366   2303        192.102937    0\n",
       "1039         366   1363        226.013791    1\n",
       "1044         366   4500         88.548682    0\n",
       "1052         366   2132        314.999440    1\n",
       "1131         347    988        113.538369    1"
      ]
     },
     "execution_count": 72,
     "metadata": {},
     "output_type": "execute_result"
    }
   ],
   "source": [
    "df_district_summary1.head()"
   ]
  },
  {
   "cell_type": "markdown",
   "id": "0d5f4494-b640-4113-86f8-17ef55f87308",
   "metadata": {},
   "source": [
    "it seems, if areas is high product then it has low engagement. (so? any insight?)\n",
    "\n",
    "There are 3 clusters :\n",
    "* 0 --> high active day, high product (the Explorer)\n",
    "* 1 --> high active day, low product (the Loyal)\n",
    "* 2 --> low active day, low engagement (the Rookie)"
   ]
  },
  {
   "cell_type": "code",
   "execution_count": null,
   "id": "4893b287-c9de-4df8-bde6-a3f4baba7502",
   "metadata": {},
   "outputs": [],
   "source": []
  },
  {
   "cell_type": "code",
   "execution_count": 73,
   "id": "2dca2605-2082-43b6-aab7-fd328df80326",
   "metadata": {},
   "outputs": [],
   "source": [
    "df_district_summary2 = df_district_summary1.reset_index()"
   ]
  },
  {
   "cell_type": "code",
   "execution_count": 74,
   "id": "1a53776c-6c19-4ca1-9b4f-03196f17314b",
   "metadata": {},
   "outputs": [
    {
     "data": {
      "text/html": [
       "<div>\n",
       "<style scoped>\n",
       "    .dataframe tbody tr th:only-of-type {\n",
       "        vertical-align: middle;\n",
       "    }\n",
       "\n",
       "    .dataframe tbody tr th {\n",
       "        vertical-align: top;\n",
       "    }\n",
       "\n",
       "    .dataframe thead th {\n",
       "        text-align: right;\n",
       "    }\n",
       "</style>\n",
       "<table border=\"1\" class=\"dataframe\">\n",
       "  <thead>\n",
       "    <tr style=\"text-align: right;\">\n",
       "      <th></th>\n",
       "      <th>district_id</th>\n",
       "      <th>state</th>\n",
       "      <th>locale</th>\n",
       "      <th>pct_black/hispanic</th>\n",
       "      <th>pct_free/reduced</th>\n",
       "      <th>county_connections_ratio</th>\n",
       "      <th>pp_total_raw</th>\n",
       "    </tr>\n",
       "  </thead>\n",
       "  <tbody>\n",
       "    <tr>\n",
       "      <th>0</th>\n",
       "      <td>8815</td>\n",
       "      <td>Illinois</td>\n",
       "      <td>Suburb</td>\n",
       "      <td>[0, 0.2[</td>\n",
       "      <td>[0, 0.2[</td>\n",
       "      <td>[0.18, 1[</td>\n",
       "      <td>[14000, 16000[</td>\n",
       "    </tr>\n",
       "    <tr>\n",
       "      <th>1</th>\n",
       "      <td>2685</td>\n",
       "      <td>NaN</td>\n",
       "      <td>unknown</td>\n",
       "      <td>NaN</td>\n",
       "      <td>NaN</td>\n",
       "      <td>NaN</td>\n",
       "      <td>NaN</td>\n",
       "    </tr>\n",
       "    <tr>\n",
       "      <th>2</th>\n",
       "      <td>4921</td>\n",
       "      <td>Utah</td>\n",
       "      <td>Suburb</td>\n",
       "      <td>[0, 0.2[</td>\n",
       "      <td>[0.2, 0.4[</td>\n",
       "      <td>[0.18, 1[</td>\n",
       "      <td>[6000, 8000[</td>\n",
       "    </tr>\n",
       "    <tr>\n",
       "      <th>3</th>\n",
       "      <td>3188</td>\n",
       "      <td>NaN</td>\n",
       "      <td>unknown</td>\n",
       "      <td>NaN</td>\n",
       "      <td>NaN</td>\n",
       "      <td>NaN</td>\n",
       "      <td>NaN</td>\n",
       "    </tr>\n",
       "    <tr>\n",
       "      <th>4</th>\n",
       "      <td>2238</td>\n",
       "      <td>NaN</td>\n",
       "      <td>unknown</td>\n",
       "      <td>NaN</td>\n",
       "      <td>NaN</td>\n",
       "      <td>NaN</td>\n",
       "      <td>NaN</td>\n",
       "    </tr>\n",
       "    <tr>\n",
       "      <th>...</th>\n",
       "      <td>...</td>\n",
       "      <td>...</td>\n",
       "      <td>...</td>\n",
       "      <td>...</td>\n",
       "      <td>...</td>\n",
       "      <td>...</td>\n",
       "      <td>...</td>\n",
       "    </tr>\n",
       "    <tr>\n",
       "      <th>228</th>\n",
       "      <td>9515</td>\n",
       "      <td>New York</td>\n",
       "      <td>Rural</td>\n",
       "      <td>[0, 0.2[</td>\n",
       "      <td>[0.4, 0.6[</td>\n",
       "      <td>[0.18, 1[</td>\n",
       "      <td>[18000, 20000[</td>\n",
       "    </tr>\n",
       "    <tr>\n",
       "      <th>229</th>\n",
       "      <td>8103</td>\n",
       "      <td>Tennessee</td>\n",
       "      <td>Rural</td>\n",
       "      <td>[0.2, 0.4[</td>\n",
       "      <td>NaN</td>\n",
       "      <td>[0.18, 1[</td>\n",
       "      <td>[8000, 10000[</td>\n",
       "    </tr>\n",
       "    <tr>\n",
       "      <th>230</th>\n",
       "      <td>4929</td>\n",
       "      <td>Virginia</td>\n",
       "      <td>Rural</td>\n",
       "      <td>[0, 0.2[</td>\n",
       "      <td>[0.4, 0.6[</td>\n",
       "      <td>[0.18, 1[</td>\n",
       "      <td>[12000, 14000[</td>\n",
       "    </tr>\n",
       "    <tr>\n",
       "      <th>231</th>\n",
       "      <td>7975</td>\n",
       "      <td>California</td>\n",
       "      <td>City</td>\n",
       "      <td>[0.6, 0.8[</td>\n",
       "      <td>[0.6, 0.8[</td>\n",
       "      <td>[0.18, 1[</td>\n",
       "      <td>NaN</td>\n",
       "    </tr>\n",
       "    <tr>\n",
       "      <th>232</th>\n",
       "      <td>7164</td>\n",
       "      <td>California</td>\n",
       "      <td>City</td>\n",
       "      <td>[0.6, 0.8[</td>\n",
       "      <td>[0.6, 0.8[</td>\n",
       "      <td>[0.18, 1[</td>\n",
       "      <td>NaN</td>\n",
       "    </tr>\n",
       "  </tbody>\n",
       "</table>\n",
       "<p>233 rows × 7 columns</p>\n",
       "</div>"
      ],
      "text/plain": [
       "     district_id       state   locale pct_black/hispanic pct_free/reduced  \\\n",
       "0           8815    Illinois   Suburb           [0, 0.2[         [0, 0.2[   \n",
       "1           2685         NaN  unknown                NaN              NaN   \n",
       "2           4921        Utah   Suburb           [0, 0.2[       [0.2, 0.4[   \n",
       "3           3188         NaN  unknown                NaN              NaN   \n",
       "4           2238         NaN  unknown                NaN              NaN   \n",
       "..           ...         ...      ...                ...              ...   \n",
       "228         9515    New York    Rural           [0, 0.2[       [0.4, 0.6[   \n",
       "229         8103   Tennessee    Rural         [0.2, 0.4[              NaN   \n",
       "230         4929    Virginia    Rural           [0, 0.2[       [0.4, 0.6[   \n",
       "231         7975  California     City         [0.6, 0.8[       [0.6, 0.8[   \n",
       "232         7164  California     City         [0.6, 0.8[       [0.6, 0.8[   \n",
       "\n",
       "    county_connections_ratio    pp_total_raw  \n",
       "0                  [0.18, 1[  [14000, 16000[  \n",
       "1                        NaN             NaN  \n",
       "2                  [0.18, 1[    [6000, 8000[  \n",
       "3                        NaN             NaN  \n",
       "4                        NaN             NaN  \n",
       "..                       ...             ...  \n",
       "228                [0.18, 1[  [18000, 20000[  \n",
       "229                [0.18, 1[   [8000, 10000[  \n",
       "230                [0.18, 1[  [12000, 14000[  \n",
       "231                [0.18, 1[             NaN  \n",
       "232                [0.18, 1[             NaN  \n",
       "\n",
       "[233 rows x 7 columns]"
      ]
     },
     "execution_count": 74,
     "metadata": {},
     "output_type": "execute_result"
    }
   ],
   "source": [
    "df_distr"
   ]
  },
  {
   "cell_type": "code",
   "execution_count": null,
   "id": "f952d0d6-2997-4ebc-a401-93dd92e2d719",
   "metadata": {},
   "outputs": [],
   "source": []
  },
  {
   "cell_type": "code",
   "execution_count": 75,
   "id": "489dae29-caec-4689-a667-def717e92afe",
   "metadata": {},
   "outputs": [],
   "source": [
    "def cluster_desc(col_check):\n",
    "    hb_cls_mat = df_distr_cls.groupby([col_check,\n",
    "                            'cls']).size().unstack().fillna(0)\n",
    "    hb_cls_mat = matrix_normalize(hb_cls_mat, axis = 1).stack().reset_index()\n",
    "    \n",
    "    hb_cls_mat = hb_cls_mat.rename(columns = {0 : 'percent_size'})\n",
    "\n",
    "    sns.barplot(data = hb_cls_mat ,x = col_check, y = 'percent_size', hue = 'cls')"
   ]
  },
  {
   "cell_type": "markdown",
   "id": "2a678aa3-23ec-4d1d-ad04-9d56dc75b941",
   "metadata": {},
   "source": [
    "the more pct free, the more probable to be cluster 0.\n",
    "\n",
    "the more pct free, the least probable to be cluster 1."
   ]
  },
  {
   "cell_type": "code",
   "execution_count": 76,
   "id": "5fe01edf-c251-46c8-9651-e675ac6ebcee",
   "metadata": {},
   "outputs": [],
   "source": [
    "df_distr_cls = pd.merge(df_distr, df_district_summary2[['district_id','cls']],\n",
    "         on = ['district_id'], how = 'left')"
   ]
  },
  {
   "cell_type": "code",
   "execution_count": 77,
   "id": "7822d6c5-b764-44d9-869c-e84110f05242",
   "metadata": {},
   "outputs": [],
   "source": [
    "cluster_desc('pct_free/reduced')"
   ]
  },
  {
   "cell_type": "code",
   "execution_count": 78,
   "id": "2cbe9530-0423-4ab3-9f3a-aa4ad1f3777b",
   "metadata": {},
   "outputs": [],
   "source": [
    "cluster_desc('locale')"
   ]
  },
  {
   "cell_type": "code",
   "execution_count": 79,
   "id": "007b9ad9-a281-43d6-848c-1fa464670713",
   "metadata": {},
   "outputs": [
    {
     "data": {
      "text/html": [
       "<div>\n",
       "<style scoped>\n",
       "    .dataframe tbody tr th:only-of-type {\n",
       "        vertical-align: middle;\n",
       "    }\n",
       "\n",
       "    .dataframe tbody tr th {\n",
       "        vertical-align: top;\n",
       "    }\n",
       "\n",
       "    .dataframe thead th {\n",
       "        text-align: right;\n",
       "    }\n",
       "</style>\n",
       "<table border=\"1\" class=\"dataframe\">\n",
       "  <thead>\n",
       "    <tr style=\"text-align: right;\">\n",
       "      <th>cls</th>\n",
       "      <th>0</th>\n",
       "      <th>1</th>\n",
       "      <th>2</th>\n",
       "    </tr>\n",
       "    <tr>\n",
       "      <th>state</th>\n",
       "      <th></th>\n",
       "      <th></th>\n",
       "      <th></th>\n",
       "    </tr>\n",
       "  </thead>\n",
       "  <tbody>\n",
       "    <tr>\n",
       "      <th>Arizona</th>\n",
       "      <td>0.0</td>\n",
       "      <td>1.0</td>\n",
       "      <td>0.0</td>\n",
       "    </tr>\n",
       "    <tr>\n",
       "      <th>California</th>\n",
       "      <td>9.0</td>\n",
       "      <td>2.0</td>\n",
       "      <td>1.0</td>\n",
       "    </tr>\n",
       "    <tr>\n",
       "      <th>Connecticut</th>\n",
       "      <td>14.0</td>\n",
       "      <td>15.0</td>\n",
       "      <td>1.0</td>\n",
       "    </tr>\n",
       "    <tr>\n",
       "      <th>District Of Columbia</th>\n",
       "      <td>2.0</td>\n",
       "      <td>0.0</td>\n",
       "      <td>1.0</td>\n",
       "    </tr>\n",
       "    <tr>\n",
       "      <th>Florida</th>\n",
       "      <td>1.0</td>\n",
       "      <td>0.0</td>\n",
       "      <td>0.0</td>\n",
       "    </tr>\n",
       "    <tr>\n",
       "      <th>Illinois</th>\n",
       "      <td>13.0</td>\n",
       "      <td>3.0</td>\n",
       "      <td>2.0</td>\n",
       "    </tr>\n",
       "    <tr>\n",
       "      <th>Indiana</th>\n",
       "      <td>4.0</td>\n",
       "      <td>3.0</td>\n",
       "      <td>0.0</td>\n",
       "    </tr>\n",
       "    <tr>\n",
       "      <th>Massachusetts</th>\n",
       "      <td>10.0</td>\n",
       "      <td>11.0</td>\n",
       "      <td>0.0</td>\n",
       "    </tr>\n",
       "    <tr>\n",
       "      <th>Michigan</th>\n",
       "      <td>2.0</td>\n",
       "      <td>0.0</td>\n",
       "      <td>0.0</td>\n",
       "    </tr>\n",
       "    <tr>\n",
       "      <th>Minnesota</th>\n",
       "      <td>0.0</td>\n",
       "      <td>0.0</td>\n",
       "      <td>1.0</td>\n",
       "    </tr>\n",
       "    <tr>\n",
       "      <th>Missouri</th>\n",
       "      <td>6.0</td>\n",
       "      <td>0.0</td>\n",
       "      <td>0.0</td>\n",
       "    </tr>\n",
       "    <tr>\n",
       "      <th>New Hampshire</th>\n",
       "      <td>0.0</td>\n",
       "      <td>2.0</td>\n",
       "      <td>0.0</td>\n",
       "    </tr>\n",
       "    <tr>\n",
       "      <th>New Jersey</th>\n",
       "      <td>1.0</td>\n",
       "      <td>1.0</td>\n",
       "      <td>0.0</td>\n",
       "    </tr>\n",
       "    <tr>\n",
       "      <th>New York</th>\n",
       "      <td>0.0</td>\n",
       "      <td>6.0</td>\n",
       "      <td>2.0</td>\n",
       "    </tr>\n",
       "    <tr>\n",
       "      <th>North Carolina</th>\n",
       "      <td>4.0</td>\n",
       "      <td>0.0</td>\n",
       "      <td>0.0</td>\n",
       "    </tr>\n",
       "    <tr>\n",
       "      <th>North Dakota</th>\n",
       "      <td>0.0</td>\n",
       "      <td>0.0</td>\n",
       "      <td>1.0</td>\n",
       "    </tr>\n",
       "    <tr>\n",
       "      <th>Ohio</th>\n",
       "      <td>8.0</td>\n",
       "      <td>2.0</td>\n",
       "      <td>1.0</td>\n",
       "    </tr>\n",
       "    <tr>\n",
       "      <th>Tennessee</th>\n",
       "      <td>1.0</td>\n",
       "      <td>0.0</td>\n",
       "      <td>1.0</td>\n",
       "    </tr>\n",
       "    <tr>\n",
       "      <th>Texas</th>\n",
       "      <td>1.0</td>\n",
       "      <td>0.0</td>\n",
       "      <td>1.0</td>\n",
       "    </tr>\n",
       "    <tr>\n",
       "      <th>Utah</th>\n",
       "      <td>16.0</td>\n",
       "      <td>13.0</td>\n",
       "      <td>0.0</td>\n",
       "    </tr>\n",
       "    <tr>\n",
       "      <th>Virginia</th>\n",
       "      <td>4.0</td>\n",
       "      <td>0.0</td>\n",
       "      <td>0.0</td>\n",
       "    </tr>\n",
       "    <tr>\n",
       "      <th>Washington</th>\n",
       "      <td>5.0</td>\n",
       "      <td>0.0</td>\n",
       "      <td>1.0</td>\n",
       "    </tr>\n",
       "    <tr>\n",
       "      <th>Wisconsin</th>\n",
       "      <td>2.0</td>\n",
       "      <td>0.0</td>\n",
       "      <td>1.0</td>\n",
       "    </tr>\n",
       "  </tbody>\n",
       "</table>\n",
       "</div>"
      ],
      "text/plain": [
       "cls                      0     1    2\n",
       "state                                \n",
       "Arizona                0.0   1.0  0.0\n",
       "California             9.0   2.0  1.0\n",
       "Connecticut           14.0  15.0  1.0\n",
       "District Of Columbia   2.0   0.0  1.0\n",
       "Florida                1.0   0.0  0.0\n",
       "Illinois              13.0   3.0  2.0\n",
       "Indiana                4.0   3.0  0.0\n",
       "Massachusetts         10.0  11.0  0.0\n",
       "Michigan               2.0   0.0  0.0\n",
       "Minnesota              0.0   0.0  1.0\n",
       "Missouri               6.0   0.0  0.0\n",
       "New Hampshire          0.0   2.0  0.0\n",
       "New Jersey             1.0   1.0  0.0\n",
       "New York               0.0   6.0  2.0\n",
       "North Carolina         4.0   0.0  0.0\n",
       "North Dakota           0.0   0.0  1.0\n",
       "Ohio                   8.0   2.0  1.0\n",
       "Tennessee              1.0   0.0  1.0\n",
       "Texas                  1.0   0.0  1.0\n",
       "Utah                  16.0  13.0  0.0\n",
       "Virginia               4.0   0.0  0.0\n",
       "Washington             5.0   0.0  1.0\n",
       "Wisconsin              2.0   0.0  1.0"
      ]
     },
     "execution_count": 79,
     "metadata": {},
     "output_type": "execute_result"
    }
   ],
   "source": [
    "df_distr_cls.groupby(['state','cls']).size().unstack().fillna(0)"
   ]
  },
  {
   "cell_type": "code",
   "execution_count": 80,
   "id": "8bb76e6a-19d3-4bb8-889d-2e36b49e5b4d",
   "metadata": {},
   "outputs": [],
   "source": [
    "del df_eng_on"
   ]
  },
  {
   "cell_type": "code",
   "execution_count": 81,
   "id": "824320d2-7be6-4dd6-8fb4-b61afc941e71",
   "metadata": {},
   "outputs": [
    {
     "data": {
      "text/plain": [
       "8072"
      ]
     },
     "execution_count": 81,
     "metadata": {},
     "output_type": "execute_result"
    }
   ],
   "source": [
    "gc.collect()"
   ]
  },
  {
   "cell_type": "code",
   "execution_count": null,
   "id": "138885df-ffcd-4484-80a0-93f69608e469",
   "metadata": {},
   "outputs": [],
   "source": []
  },
  {
   "cell_type": "markdown",
   "id": "9462d0e6-f986-4dd3-83dd-15787f7d0b86",
   "metadata": {},
   "source": [
    "## Platform Essentials <a class=\"anchor\" id=\"third-bullet\"></a>"
   ]
  },
  {
   "cell_type": "code",
   "execution_count": 82,
   "id": "7fee2146-3cbe-41d9-8eb6-acba58fe5b57",
   "metadata": {},
   "outputs": [],
   "source": [
    "df_time_only = df_eng[['day','weekday','is_weekend','weeks']].drop_duplicates().reset_index(drop=True)\n",
    "df_time_only['rr'] = 1\n",
    "\n",
    "df_district_only = df_eng[['district_id']].drop_duplicates().reset_index(drop=True)\n",
    "df_district_only['rr'] = 1\n",
    "\n",
    "df_base_district_time = pd.merge(df_time_only, df_district_only, on = 'rr').reset_index(drop=True)"
   ]
  },
  {
   "cell_type": "code",
   "execution_count": 83,
   "id": "bd7a2673-6855-4de0-b396-6b9b40447ebc",
   "metadata": {},
   "outputs": [],
   "source": [
    "def q50(x):\n",
    "    return x.quantile(0.5)"
   ]
  },
  {
   "cell_type": "code",
   "execution_count": 166,
   "id": "84b154db-7453-472d-9f1b-2efe8a780d5b",
   "metadata": {},
   "outputs": [],
   "source": [
    "def week_snapshot(wn, df_eng = df_eng, engagement = True, raw_base = False):\n",
    "    title_f = 'snapshot learn platform week : '+wn\n",
    "    df_week_temp = df_eng[df_eng.weeks == wn][['day','district_id',\n",
    "                                            'lp_id','pct_access','engagement_index']]\n",
    "    df_base_temp = df_base_district_time[df_base_district_time.weeks == wn]\n",
    "    df_base_eng_temp = pd.merge(df_base_temp, df_week_temp, \n",
    "                     on = ['day','district_id'], \n",
    "                     how = 'left'\n",
    "                    )\n",
    "\n",
    "    df_base_eng_temp = pd.merge(df_base_eng_temp, df_distr_cls[['district_id','cls']], \n",
    "                     on = ['district_id'], \n",
    "                     how = 'left'\n",
    "                    )\n",
    "\n",
    "    df_base_eng_temp['engagement_index2'] = np.where(df_base_eng_temp['engagement_index'] == 0, 1, \n",
    "                                                     df_base_eng_temp['engagement_index'].fillna(0)*1000)/100\n",
    "    df_base_eng_temp['active_day'] =  np.where(df_base_eng_temp['engagement_index2'] != 0,df_base_eng_temp['day'],np.NaN)\n",
    "    \n",
    "    df_base_eng_temp = pd.merge(df_base_eng_temp, df_product, \n",
    "                     left_on = ['lp_id'], \n",
    "                     right_on = ['LP ID'],\n",
    "                     how = 'left'\n",
    "                    )\n",
    "    \n",
    "    if engagement:\n",
    "        df_g1 = df_base_eng_temp.groupby(['cls','product_essential']).agg({'engagement_index2':q50}).reset_index()\n",
    "    else:\n",
    "        df_g0 = df_base_eng_temp.groupby(['district_id','cls','product_essential']).agg({'LP ID':pd.Series.nunique}).reset_index()\n",
    "        df_g1 = df_g0.groupby(['cls','product_essential']).agg({'LP ID':q50}).reset_index()\n",
    "\n",
    "    df_g1['week'] = wn\n",
    "    if raw_base:\n",
    "        return df_base_eng_temp\n",
    "    else:\n",
    "        return df_g1"
   ]
  },
  {
   "cell_type": "code",
   "execution_count": 167,
   "id": "91a57426-6cf5-4811-afae-a14f427da0a9",
   "metadata": {},
   "outputs": [],
   "source": [
    "df_weekly = pd.DataFrame()\n",
    "wn_list = ['{:0>2}'.format(i+1) for i in range(45)]\n",
    "for wn in wn_list:\n",
    "    df_bb = week_snapshot(wn, engagement=False)\n",
    "    df_weekly = df_weekly.append(df_bb)\n",
    "df_weekly = df_weekly.reset_index(drop = True)"
   ]
  },
  {
   "cell_type": "code",
   "execution_count": 184,
   "id": "fa74755c-1ad2-4644-842d-e4953e608f05",
   "metadata": {},
   "outputs": [
    {
     "data": {
      "text/plain": [
       "6"
      ]
     },
     "execution_count": 184,
     "metadata": {},
     "output_type": "execute_result"
    }
   ],
   "source": [
    "## Get top essential\n",
    "df_lp_p50 = df_weekly.groupby(['product_essential','cls'])['LP ID'].apply(q50).reset_index()\n",
    "df_lp_p50['RN'] = df_lp_p50.groupby(['cls'])['LP ID'].rank(method='dense', ascending=False).astype(int)\n",
    "essential_top3 = df_lp_p50[df_lp_p50['RN'] <= 3].product_essential.unique().tolist()\n",
    "df_weekly_top3 = df_weekly[df_weekly.product_essential.isin(essential_top3)]\n",
    "len(essential_top3)"
   ]
  },
  {
   "cell_type": "code",
   "execution_count": 185,
   "id": "dc8f1413-9195-4bba-a977-5c82996afd15",
   "metadata": {},
   "outputs": [
    {
     "name": "stderr",
     "output_type": "stream",
     "text": [
      "C:\\Users\\amoza\\anaconda3\\envs\\droid1\\lib\\site-packages\\ipykernel_launcher.py:2: UserWarning: Boolean Series key will be reindexed to match DataFrame index.\n",
      "  \n"
     ]
    },
    {
     "data": {
      "image/png": "[encoded data removed]",
      "text/plain": [
       "<Figure size 1500x600 with 1 Axes>"
      ]
     },
     "metadata": {},
     "output_type": "display_data"
    }
   ],
   "source": [
    "ess = essential_top3[0]\n",
    "dtemp = df_weekly_top3[df_weekly_top5.product_essential == ess]\n",
    "# sns.set_style(\"dark\")\n",
    "plt.figure(figsize=(15,6))\n",
    "b =sns.lineplot(data = dtemp, x = 'week', y = 'LP ID', hue = 'cls', palette='bwr')\n",
    "legend = plt.legend(bbox_to_anchor=(1.01, 1), loc=2, borderaxespad=0.)\n",
    "b.axes.set_title(ess,fontsize=12)\n",
    "b.set_xlabel(\"X Label\",fontsize=9)\n",
    "b.set_ylabel(\"Learning Platform Count\",fontsize=9)\n",
    "b.tick_params(labelsize=9)\n",
    "plt.show()"
   ]
  },
  {
   "cell_type": "markdown",
   "id": "8f0c9d88-1d86-42cb-8c7a-47530221e0c2",
   "metadata": {},
   "source": [
    "### "
   ]
  },
  {
   "cell_type": "code",
   "execution_count": 188,
   "id": "0d92cc80-1cb8-4b3c-a28e-69ef42722671",
   "metadata": {},
   "outputs": [
    {
     "data": {
      "text/html": [
       "<div>\n",
       "<style scoped>\n",
       "    .dataframe tbody tr th:only-of-type {\n",
       "        vertical-align: middle;\n",
       "    }\n",
       "\n",
       "    .dataframe tbody tr th {\n",
       "        vertical-align: top;\n",
       "    }\n",
       "\n",
       "    .dataframe thead th {\n",
       "        text-align: right;\n",
       "    }\n",
       "</style>\n",
       "<table border=\"1\" class=\"dataframe\">\n",
       "  <thead>\n",
       "    <tr style=\"text-align: right;\">\n",
       "      <th></th>\n",
       "      <th>product_essential</th>\n",
       "      <th>cls</th>\n",
       "      <th>LP ID</th>\n",
       "      <th>RN</th>\n",
       "    </tr>\n",
       "  </thead>\n",
       "  <tbody>\n",
       "    <tr>\n",
       "      <th>42</th>\n",
       "      <td>Sites, Resources &amp; Reference</td>\n",
       "      <td>0</td>\n",
       "      <td>81.0</td>\n",
       "      <td>1</td>\n",
       "    </tr>\n",
       "    <tr>\n",
       "      <th>18</th>\n",
       "      <td>Digital Learning Platforms</td>\n",
       "      <td>0</td>\n",
       "      <td>53.0</td>\n",
       "      <td>2</td>\n",
       "    </tr>\n",
       "    <tr>\n",
       "      <th>9</th>\n",
       "      <td>Content Creation &amp; Curation</td>\n",
       "      <td>0</td>\n",
       "      <td>28.0</td>\n",
       "      <td>3</td>\n",
       "    </tr>\n",
       "    <tr>\n",
       "      <th>45</th>\n",
       "      <td>Study Tools</td>\n",
       "      <td>0</td>\n",
       "      <td>28.0</td>\n",
       "      <td>3</td>\n",
       "    </tr>\n",
       "    <tr>\n",
       "      <th>43</th>\n",
       "      <td>Sites, Resources &amp; Reference</td>\n",
       "      <td>1</td>\n",
       "      <td>56.0</td>\n",
       "      <td>1</td>\n",
       "    </tr>\n",
       "    <tr>\n",
       "      <th>19</th>\n",
       "      <td>Digital Learning Platforms</td>\n",
       "      <td>1</td>\n",
       "      <td>32.0</td>\n",
       "      <td>2</td>\n",
       "    </tr>\n",
       "    <tr>\n",
       "      <th>46</th>\n",
       "      <td>Study Tools</td>\n",
       "      <td>1</td>\n",
       "      <td>22.0</td>\n",
       "      <td>3</td>\n",
       "    </tr>\n",
       "    <tr>\n",
       "      <th>20</th>\n",
       "      <td>Digital Learning Platforms</td>\n",
       "      <td>2</td>\n",
       "      <td>23.0</td>\n",
       "      <td>1</td>\n",
       "    </tr>\n",
       "    <tr>\n",
       "      <th>44</th>\n",
       "      <td>Sites, Resources &amp; Reference</td>\n",
       "      <td>2</td>\n",
       "      <td>23.0</td>\n",
       "      <td>1</td>\n",
       "    </tr>\n",
       "    <tr>\n",
       "      <th>47</th>\n",
       "      <td>Study Tools</td>\n",
       "      <td>2</td>\n",
       "      <td>15.0</td>\n",
       "      <td>2</td>\n",
       "    </tr>\n",
       "    <tr>\n",
       "      <th>14</th>\n",
       "      <td>Courseware &amp; Textbooks</td>\n",
       "      <td>2</td>\n",
       "      <td>7.0</td>\n",
       "      <td>3</td>\n",
       "    </tr>\n",
       "    <tr>\n",
       "      <th>38</th>\n",
       "      <td>Other</td>\n",
       "      <td>2</td>\n",
       "      <td>7.0</td>\n",
       "      <td>3</td>\n",
       "    </tr>\n",
       "  </tbody>\n",
       "</table>\n",
       "</div>"
      ],
      "text/plain": [
       "               product_essential  cls  LP ID  RN\n",
       "42  Sites, Resources & Reference    0   81.0   1\n",
       "18    Digital Learning Platforms    0   53.0   2\n",
       "9    Content Creation & Curation    0   28.0   3\n",
       "45                   Study Tools    0   28.0   3\n",
       "43  Sites, Resources & Reference    1   56.0   1\n",
       "19    Digital Learning Platforms    1   32.0   2\n",
       "46                   Study Tools    1   22.0   3\n",
       "20    Digital Learning Platforms    2   23.0   1\n",
       "44  Sites, Resources & Reference    2   23.0   1\n",
       "47                   Study Tools    2   15.0   2\n",
       "14        Courseware & Textbooks    2    7.0   3\n",
       "38                         Other    2    7.0   3"
      ]
     },
     "execution_count": 188,
     "metadata": {},
     "output_type": "execute_result"
    }
   ],
   "source": [
    "df_lp_p50[df_lp_p50['RN'] <= 3].sort_values(['cls','RN'])"
   ]
  },
  {
   "cell_type": "code",
   "execution_count": null,
   "id": "ad648438-b040-4479-b8f2-784bd80cf694",
   "metadata": {},
   "outputs": [],
   "source": []
  }
 ],
 "metadata": {
  "kernelspec": {
   "display_name": "droid1",
   "language": "python",
   "name": "droid1"
  },
  "language_info": {
   "codemirror_mode": {
    "name": "ipython",
    "version": 3
   },
   "file_extension": ".py",
   "mimetype": "text/x-python",
   "name": "python",
   "nbconvert_exporter": "python",
   "pygments_lexer": "ipython3",
   "version": "3.7.10"
  }
 },
 "nbformat": 4,
 "nbformat_minor": 5
}
