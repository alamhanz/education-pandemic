{
 "cells": [
  {
   "cell_type": "code",
   "execution_count": 1,
   "id": "493c4d7a-be92-4ea1-bba9-33caa0354f2a",
   "metadata": {},
   "outputs": [],
   "source": [
    "## Base\n",
    "# %matplotlib inline\n",
    "import pandas as pd\n",
    "import numpy as np\n",
    "import matplotlib.pyplot as plt\n",
    "import matplotlib as mpl\n",
    "import seaborn as sns\n",
    "import os\n",
    "\n",
    "from sklearn.cluster import KMeans, SpectralClustering\n",
    "from sklearn.mixture import GaussianMixture\n",
    "from sklearn.preprocessing import StandardScaler\n",
    "from sklearn.metrics import silhouette_score\n",
    "import gc\n",
    "\n",
    "import sys\n",
    "sys.path.append('../src/')\n",
    "import common\n",
    "\n",
    "\n",
    "BASE_PATH = '../data/'\n",
    "PATH_DATA = BASE_PATH+'engagement_data/'"
   ]
  },
  {
   "cell_type": "code",
   "execution_count": 2,
   "id": "484f9f49-f2ab-4cf4-b345-f7059fcdd0b9",
   "metadata": {},
   "outputs": [],
   "source": [
    "daily_states_covid = open(BASE_PATH+'128303-V1/Live Data/us-states.txt')\n",
    "daily_states_covid = daily_states_covid.readlines()"
   ]
  },
  {
   "cell_type": "code",
   "execution_count": 9,
   "id": "779564c4-a283-4069-880f-b0b2bf2d249c",
   "metadata": {},
   "outputs": [],
   "source": [
    "cols = daily_states_covid[0].replace('\\n','').split(',')\n",
    "all_rows = [i.replace('\\n','').split(',') for i in daily_states_covid[1:]]\n",
    "data_covid = pd.DataFrame(all_rows, columns = cols)"
   ]
  },
  {
   "cell_type": "code",
   "execution_count": 10,
   "id": "6aca2dd8-95b7-4bd4-aba0-1683a90fc21f",
   "metadata": {},
   "outputs": [],
   "source": [
    "data_covid.to_csv(BASE_PATH+'daily_covid_states.csv',index = False)"
   ]
  },
  {
   "cell_type": "code",
   "execution_count": null,
   "id": "640427b0-47e4-4188-b81c-279e4c237db7",
   "metadata": {},
   "outputs": [],
   "source": []
  }
 ],
 "metadata": {
  "kernelspec": {
   "display_name": "droid1",
   "language": "python",
   "name": "droid1"
  },
  "language_info": {
   "codemirror_mode": {
    "name": "ipython",
    "version": 3
   },
   "file_extension": ".py",
   "mimetype": "text/x-python",
   "name": "python",
   "nbconvert_exporter": "python",
   "pygments_lexer": "ipython3",
   "version": "3.7.10"
  }
 },
 "nbformat": 4,
 "nbformat_minor": 5
}
